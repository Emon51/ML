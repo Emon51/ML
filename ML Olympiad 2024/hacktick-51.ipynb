{
 "cells": [
  {
   "cell_type": "code",
   "execution_count": 1,
   "id": "eaa7913f",
   "metadata": {
    "_cell_guid": "b1076dfc-b9ad-4769-8c92-a6c4dae69d19",
    "_uuid": "8f2839f25d086af736a60e9eeb907d3b93b6e0e5",
    "execution": {
     "iopub.execute_input": "2024-03-29T20:07:16.733681Z",
     "iopub.status.busy": "2024-03-29T20:07:16.733182Z",
     "iopub.status.idle": "2024-03-29T20:07:17.648778Z",
     "shell.execute_reply": "2024-03-29T20:07:17.647757Z"
    },
    "papermill": {
     "duration": 0.943581,
     "end_time": "2024-03-29T20:07:17.651302",
     "exception": false,
     "start_time": "2024-03-29T20:07:16.707721",
     "status": "completed"
    },
    "tags": []
   },
   "outputs": [
    {
     "name": "stdout",
     "output_type": "stream",
     "text": [
      "/kaggle/input/ml-olympiad-co2-emissions-prediction-challenge/sample_submission.csv\n",
      "/kaggle/input/ml-olympiad-co2-emissions-prediction-challenge/train.csv\n",
      "/kaggle/input/ml-olympiad-co2-emissions-prediction-challenge/test.csv\n"
     ]
    }
   ],
   "source": [
    "# This Python 3 environment comes with many helpful analytics libraries installed\n",
    "# It is defined by the kaggle/python Docker image: https://github.com/kaggle/docker-python\n",
    "# For example, here's several helpful packages to load\n",
    "\n",
    "import numpy as np # linear algebra\n",
    "import pandas as pd # data processing, CSV file I/O (e.g. pd.read_csv)\n",
    "\n",
    "# Input data files are available in the read-only \"../input/\" directory\n",
    "# For example, running this (by clicking run or pressing Shift+Enter) will list all files under the input directory\n",
    "\n",
    "import os\n",
    "for dirname, _, filenames in os.walk('/kaggle/input'):\n",
    "    for filename in filenames:\n",
    "        print(os.path.join(dirname, filename))\n",
    "\n",
    "# You can write up to 20GB to the current directory (/kaggle/working/) that gets preserved as output when you create a version using \"Save & Run All\" \n",
    "# You can also write temporary files to /kaggle/temp/, but they won't be saved outside of the current session"
   ]
  },
  {
   "cell_type": "code",
   "execution_count": 2,
   "id": "4ee52ce3",
   "metadata": {
    "execution": {
     "iopub.execute_input": "2024-03-29T20:07:17.697869Z",
     "iopub.status.busy": "2024-03-29T20:07:17.696750Z",
     "iopub.status.idle": "2024-03-29T20:07:17.773023Z",
     "shell.execute_reply": "2024-03-29T20:07:17.772018Z"
    },
    "papermill": {
     "duration": 0.103017,
     "end_time": "2024-03-29T20:07:17.775934",
     "exception": false,
     "start_time": "2024-03-29T20:07:17.672917",
     "status": "completed"
    },
    "tags": []
   },
   "outputs": [],
   "source": [
    "train1 = pd.read_csv('/kaggle/input/ml-olympiad-co2-emissions-prediction-challenge/train.csv')\n",
    "test1 = pd.read_csv('/kaggle/input/ml-olympiad-co2-emissions-prediction-challenge/test.csv')\n",
    "sample_submission = pd.read_csv('/kaggle/input/ml-olympiad-co2-emissions-prediction-challenge/sample_submission.csv')"
   ]
  },
  {
   "cell_type": "code",
   "execution_count": 3,
   "id": "c798d47e",
   "metadata": {
    "execution": {
     "iopub.execute_input": "2024-03-29T20:07:17.821878Z",
     "iopub.status.busy": "2024-03-29T20:07:17.821108Z",
     "iopub.status.idle": "2024-03-29T20:07:17.847513Z",
     "shell.execute_reply": "2024-03-29T20:07:17.846719Z"
    },
    "papermill": {
     "duration": 0.051976,
     "end_time": "2024-03-29T20:07:17.849971",
     "exception": false,
     "start_time": "2024-03-29T20:07:17.797995",
     "status": "completed"
    },
    "tags": []
   },
   "outputs": [
    {
     "data": {
      "text/html": [
       "<div>\n",
       "<style scoped>\n",
       "    .dataframe tbody tr th:only-of-type {\n",
       "        vertical-align: middle;\n",
       "    }\n",
       "\n",
       "    .dataframe tbody tr th {\n",
       "        vertical-align: top;\n",
       "    }\n",
       "\n",
       "    .dataframe thead th {\n",
       "        text-align: right;\n",
       "    }\n",
       "</style>\n",
       "<table border=\"1\" class=\"dataframe\">\n",
       "  <thead>\n",
       "    <tr style=\"text-align: right;\">\n",
       "      <th></th>\n",
       "      <th>Country Code</th>\n",
       "      <th>Country Name</th>\n",
       "      <th>Indicator</th>\n",
       "      <th>2000 [YR2000]</th>\n",
       "      <th>2001 [YR2001]</th>\n",
       "      <th>2002 [YR2002]</th>\n",
       "      <th>2003 [YR2003]</th>\n",
       "      <th>2004 [YR2004]</th>\n",
       "      <th>2005 [YR2005]</th>\n",
       "      <th>2006 [YR2006]</th>\n",
       "      <th>2007 [YR2007]</th>\n",
       "      <th>2008 [YR2008]</th>\n",
       "      <th>2009 [YR2009]</th>\n",
       "      <th>2010 [YR2010]</th>\n",
       "      <th>2011 [YR2011]</th>\n",
       "      <th>2012 [YR2012]</th>\n",
       "      <th>2013 [YR2013]</th>\n",
       "      <th>2014 [YR2014]</th>\n",
       "      <th>2015 [YR2015]</th>\n",
       "    </tr>\n",
       "  </thead>\n",
       "  <tbody>\n",
       "    <tr>\n",
       "      <th>0</th>\n",
       "      <td>Afg</td>\n",
       "      <td>Afghanistan</td>\n",
       "      <td>Access to electricity (% of population)</td>\n",
       "      <td>4.446890831</td>\n",
       "      <td>9.294527054</td>\n",
       "      <td>14.13361645</td>\n",
       "      <td>18.9711647</td>\n",
       "      <td>23.81418228</td>\n",
       "      <td>28.66967201</td>\n",
       "      <td>33.54441833</td>\n",
       "      <td>38.44000244</td>\n",
       "      <td>42.4</td>\n",
       "      <td>48.27900696</td>\n",
       "      <td>42.7</td>\n",
       "      <td>43.22201891</td>\n",
       "      <td>69.1</td>\n",
       "      <td>68.0408783</td>\n",
       "      <td>89.5</td>\n",
       "      <td>71.5</td>\n",
       "    </tr>\n",
       "    <tr>\n",
       "      <th>1</th>\n",
       "      <td>Afg</td>\n",
       "      <td>Afghanistan</td>\n",
       "      <td>Agricultural land (% of land area)</td>\n",
       "      <td>57.94581666</td>\n",
       "      <td>57.94734986</td>\n",
       "      <td>57.93968385</td>\n",
       "      <td>58.08380479</td>\n",
       "      <td>58.15126566</td>\n",
       "      <td>58.13440044</td>\n",
       "      <td>58.12366803</td>\n",
       "      <td>58.12980084</td>\n",
       "      <td>58.13286724</td>\n",
       "      <td>58.13286724</td>\n",
       "      <td>58.13440044</td>\n",
       "      <td>58.13133404</td>\n",
       "      <td>58.12980084</td>\n",
       "      <td>58.12366803</td>\n",
       "      <td>58.12366803</td>\n",
       "      <td>58.12366803</td>\n",
       "    </tr>\n",
       "    <tr>\n",
       "      <th>2</th>\n",
       "      <td>Afg</td>\n",
       "      <td>Afghanistan</td>\n",
       "      <td>Annual freshwater withdrawals, total (% of int...</td>\n",
       "      <td>43.01590668</td>\n",
       "      <td>43.01590668</td>\n",
       "      <td>43.01590668</td>\n",
       "      <td>43.01590668</td>\n",
       "      <td>43.01590668</td>\n",
       "      <td>43.01590668</td>\n",
       "      <td>43.01590668</td>\n",
       "      <td>43.01590668</td>\n",
       "      <td>43.01590668</td>\n",
       "      <td>43.01590668</td>\n",
       "      <td>43.01590668</td>\n",
       "      <td>43.01590668</td>\n",
       "      <td>43.01590668</td>\n",
       "      <td>43.01590668</td>\n",
       "      <td>43.01590668</td>\n",
       "      <td>43.01590668</td>\n",
       "    </tr>\n",
       "    <tr>\n",
       "      <th>3</th>\n",
       "      <td>Afg</td>\n",
       "      <td>Afghanistan</td>\n",
       "      <td>Arable land (% of land area)</td>\n",
       "      <td>11.77958696</td>\n",
       "      <td>11.77958696</td>\n",
       "      <td>11.77192095</td>\n",
       "      <td>11.91604189</td>\n",
       "      <td>11.98350275</td>\n",
       "      <td>11.96663754</td>\n",
       "      <td>11.94977232</td>\n",
       "      <td>11.94977232</td>\n",
       "      <td>11.94977232</td>\n",
       "      <td>11.94823912</td>\n",
       "      <td>11.94823912</td>\n",
       "      <td>11.94517272</td>\n",
       "      <td>11.94363951</td>\n",
       "      <td>11.93597351</td>\n",
       "      <td>11.91450869</td>\n",
       "      <td>11.90530948</td>\n",
       "    </tr>\n",
       "    <tr>\n",
       "      <th>4</th>\n",
       "      <td>Afg</td>\n",
       "      <td>Afghanistan</td>\n",
       "      <td>Forest area (% of land area)</td>\n",
       "      <td>1.852781994</td>\n",
       "      <td>1.852781994</td>\n",
       "      <td>1.852781994</td>\n",
       "      <td>1.852781994</td>\n",
       "      <td>1.852781994</td>\n",
       "      <td>1.852781994</td>\n",
       "      <td>1.852781994</td>\n",
       "      <td>1.852781994</td>\n",
       "      <td>1.852781994</td>\n",
       "      <td>1.852781994</td>\n",
       "      <td>1.852781994</td>\n",
       "      <td>1.852781994</td>\n",
       "      <td>1.852781994</td>\n",
       "      <td>1.852781994</td>\n",
       "      <td>1.852781994</td>\n",
       "      <td>1.852781994</td>\n",
       "    </tr>\n",
       "  </tbody>\n",
       "</table>\n",
       "</div>"
      ],
      "text/plain": [
       "  Country Code Country Name  \\\n",
       "0          Afg  Afghanistan   \n",
       "1          Afg  Afghanistan   \n",
       "2          Afg  Afghanistan   \n",
       "3          Afg  Afghanistan   \n",
       "4          Afg  Afghanistan   \n",
       "\n",
       "                                           Indicator 2000 [YR2000]  \\\n",
       "0            Access to electricity (% of population)   4.446890831   \n",
       "1                 Agricultural land (% of land area)   57.94581666   \n",
       "2  Annual freshwater withdrawals, total (% of int...   43.01590668   \n",
       "3                       Arable land (% of land area)   11.77958696   \n",
       "4                       Forest area (% of land area)   1.852781994   \n",
       "\n",
       "  2001 [YR2001] 2002 [YR2002] 2003 [YR2003] 2004 [YR2004] 2005 [YR2005]  \\\n",
       "0   9.294527054   14.13361645    18.9711647   23.81418228   28.66967201   \n",
       "1   57.94734986   57.93968385   58.08380479   58.15126566   58.13440044   \n",
       "2   43.01590668   43.01590668   43.01590668   43.01590668   43.01590668   \n",
       "3   11.77958696   11.77192095   11.91604189   11.98350275   11.96663754   \n",
       "4   1.852781994   1.852781994   1.852781994   1.852781994   1.852781994   \n",
       "\n",
       "  2006 [YR2006] 2007 [YR2007] 2008 [YR2008] 2009 [YR2009] 2010 [YR2010]  \\\n",
       "0   33.54441833   38.44000244          42.4   48.27900696          42.7   \n",
       "1   58.12366803   58.12980084   58.13286724   58.13286724   58.13440044   \n",
       "2   43.01590668   43.01590668   43.01590668   43.01590668   43.01590668   \n",
       "3   11.94977232   11.94977232   11.94977232   11.94823912   11.94823912   \n",
       "4   1.852781994   1.852781994   1.852781994   1.852781994   1.852781994   \n",
       "\n",
       "  2011 [YR2011] 2012 [YR2012] 2013 [YR2013] 2014 [YR2014] 2015 [YR2015]  \n",
       "0   43.22201891          69.1    68.0408783          89.5          71.5  \n",
       "1   58.13133404   58.12980084   58.12366803   58.12366803   58.12366803  \n",
       "2   43.01590668   43.01590668   43.01590668   43.01590668   43.01590668  \n",
       "3   11.94517272   11.94363951   11.93597351   11.91450869   11.90530948  \n",
       "4   1.852781994   1.852781994   1.852781994   1.852781994   1.852781994  "
      ]
     },
     "execution_count": 3,
     "metadata": {},
     "output_type": "execute_result"
    }
   ],
   "source": [
    "train1.head(5)"
   ]
  },
  {
   "cell_type": "code",
   "execution_count": 4,
   "id": "3155506d",
   "metadata": {
    "execution": {
     "iopub.execute_input": "2024-03-29T20:07:17.895758Z",
     "iopub.status.busy": "2024-03-29T20:07:17.895329Z",
     "iopub.status.idle": "2024-03-29T20:07:17.909322Z",
     "shell.execute_reply": "2024-03-29T20:07:17.908221Z"
    },
    "papermill": {
     "duration": 0.040021,
     "end_time": "2024-03-29T20:07:17.911898",
     "exception": false,
     "start_time": "2024-03-29T20:07:17.871877",
     "status": "completed"
    },
    "tags": []
   },
   "outputs": [
    {
     "data": {
      "text/html": [
       "<div>\n",
       "<style scoped>\n",
       "    .dataframe tbody tr th:only-of-type {\n",
       "        vertical-align: middle;\n",
       "    }\n",
       "\n",
       "    .dataframe tbody tr th {\n",
       "        vertical-align: top;\n",
       "    }\n",
       "\n",
       "    .dataframe thead th {\n",
       "        text-align: right;\n",
       "    }\n",
       "</style>\n",
       "<table border=\"1\" class=\"dataframe\">\n",
       "  <thead>\n",
       "    <tr style=\"text-align: right;\">\n",
       "      <th></th>\n",
       "      <th>Country Name</th>\n",
       "      <th>Indicator</th>\n",
       "      <th>2016 [YR2016]</th>\n",
       "      <th>2017 [YR2017]</th>\n",
       "      <th>2018 [YR2018]</th>\n",
       "      <th>2019 [YR2019]</th>\n",
       "      <th>2020 [YR2020]</th>\n",
       "    </tr>\n",
       "  </thead>\n",
       "  <tbody>\n",
       "    <tr>\n",
       "      <th>0</th>\n",
       "      <td>Afghanistan</td>\n",
       "      <td>Access to electricity (% of population)</td>\n",
       "      <td>97.7</td>\n",
       "      <td>97.7</td>\n",
       "      <td>93.43087769</td>\n",
       "      <td>97.7</td>\n",
       "      <td>97.7</td>\n",
       "    </tr>\n",
       "    <tr>\n",
       "      <th>1</th>\n",
       "      <td>Afghanistan</td>\n",
       "      <td>Agricultural land (% of land area)</td>\n",
       "      <td>58.12366803</td>\n",
       "      <td>58.12366803</td>\n",
       "      <td>58.27698818</td>\n",
       "      <td>58.27698818</td>\n",
       "      <td>58.74154823</td>\n",
       "    </tr>\n",
       "    <tr>\n",
       "      <th>2</th>\n",
       "      <td>Afghanistan</td>\n",
       "      <td>Annual freshwater withdrawals, total (% of int...</td>\n",
       "      <td>43.01590668</td>\n",
       "      <td>43.01590668</td>\n",
       "      <td>43.01590668</td>\n",
       "      <td>43.01590668</td>\n",
       "      <td>43.01590668</td>\n",
       "    </tr>\n",
       "    <tr>\n",
       "      <th>3</th>\n",
       "      <td>Afghanistan</td>\n",
       "      <td>Arable land (% of land area)</td>\n",
       "      <td>11.85011422</td>\n",
       "      <td>11.80411818</td>\n",
       "      <td>11.94977232</td>\n",
       "      <td>11.94057311</td>\n",
       "      <td>12.00343437</td>\n",
       "    </tr>\n",
       "    <tr>\n",
       "      <th>4</th>\n",
       "      <td>Afghanistan</td>\n",
       "      <td>Forest area (% of land area)</td>\n",
       "      <td>1.852781994</td>\n",
       "      <td>1.852781994</td>\n",
       "      <td>1.852781994</td>\n",
       "      <td>1.852781994</td>\n",
       "      <td>1.852781994</td>\n",
       "    </tr>\n",
       "  </tbody>\n",
       "</table>\n",
       "</div>"
      ],
      "text/plain": [
       "  Country Name                                          Indicator  \\\n",
       "0  Afghanistan            Access to electricity (% of population)   \n",
       "1  Afghanistan                 Agricultural land (% of land area)   \n",
       "2  Afghanistan  Annual freshwater withdrawals, total (% of int...   \n",
       "3  Afghanistan                       Arable land (% of land area)   \n",
       "4  Afghanistan                       Forest area (% of land area)   \n",
       "\n",
       "  2016 [YR2016] 2017 [YR2017] 2018 [YR2018] 2019 [YR2019] 2020 [YR2020]  \n",
       "0          97.7          97.7   93.43087769          97.7          97.7  \n",
       "1   58.12366803   58.12366803   58.27698818   58.27698818   58.74154823  \n",
       "2   43.01590668   43.01590668   43.01590668   43.01590668   43.01590668  \n",
       "3   11.85011422   11.80411818   11.94977232   11.94057311   12.00343437  \n",
       "4   1.852781994   1.852781994   1.852781994   1.852781994   1.852781994  "
      ]
     },
     "execution_count": 4,
     "metadata": {},
     "output_type": "execute_result"
    }
   ],
   "source": [
    "test1.head()"
   ]
  },
  {
   "cell_type": "code",
   "execution_count": 5,
   "id": "d9f5c51d",
   "metadata": {
    "execution": {
     "iopub.execute_input": "2024-03-29T20:07:17.958747Z",
     "iopub.status.busy": "2024-03-29T20:07:17.957976Z",
     "iopub.status.idle": "2024-03-29T20:07:17.970746Z",
     "shell.execute_reply": "2024-03-29T20:07:17.969754Z"
    },
    "papermill": {
     "duration": 0.03881,
     "end_time": "2024-03-29T20:07:17.973033",
     "exception": false,
     "start_time": "2024-03-29T20:07:17.934223",
     "status": "completed"
    },
    "tags": []
   },
   "outputs": [
    {
     "data": {
      "text/plain": [
       "array(['Access to electricity (% of population)',\n",
       "       'Agricultural land (% of land area)',\n",
       "       'Annual freshwater withdrawals, total (% of internal resources)',\n",
       "       'Arable land (% of land area)', 'Forest area (% of land area)',\n",
       "       'Electric power consumption (kWh per capita)',\n",
       "       'Energy use (kg of oil equivalent per capita)',\n",
       "       'Renewable electricity output (% of total electricity output)',\n",
       "       'Renewable energy consumption (% of total final energy consumption)',\n",
       "       'Population growth (annual %)', 'GDP per capita (current US$)',\n",
       "       'CO2 emissions (metric tons per capita)'], dtype=object)"
      ]
     },
     "execution_count": 5,
     "metadata": {},
     "output_type": "execute_result"
    }
   ],
   "source": [
    "train1.Indicator.unique()"
   ]
  },
  {
   "cell_type": "code",
   "execution_count": 6,
   "id": "f7295dee",
   "metadata": {
    "execution": {
     "iopub.execute_input": "2024-03-29T20:07:18.021506Z",
     "iopub.status.busy": "2024-03-29T20:07:18.020484Z",
     "iopub.status.idle": "2024-03-29T20:07:18.028702Z",
     "shell.execute_reply": "2024-03-29T20:07:18.027564Z"
    },
    "papermill": {
     "duration": 0.034186,
     "end_time": "2024-03-29T20:07:18.030902",
     "exception": false,
     "start_time": "2024-03-29T20:07:17.996716",
     "status": "completed"
    },
    "tags": []
   },
   "outputs": [
    {
     "data": {
      "text/plain": [
       "array(['Access to electricity (% of population)',\n",
       "       'Agricultural land (% of land area)',\n",
       "       'Annual freshwater withdrawals, total (% of internal resources)',\n",
       "       'Arable land (% of land area)', 'Forest area (% of land area)',\n",
       "       'Electric power consumption (kWh per capita)',\n",
       "       'Energy use (kg of oil equivalent per capita)',\n",
       "       'Renewable electricity output (% of total electricity output)',\n",
       "       'Renewable energy consumption (% of total final energy consumption)',\n",
       "       'Population growth (annual %)', 'GDP per capita (current US$)'],\n",
       "      dtype=object)"
      ]
     },
     "execution_count": 6,
     "metadata": {},
     "output_type": "execute_result"
    }
   ],
   "source": [
    "test1.Indicator.unique()"
   ]
  },
  {
   "cell_type": "code",
   "execution_count": 7,
   "id": "98dbe341",
   "metadata": {
    "execution": {
     "iopub.execute_input": "2024-03-29T20:07:18.079456Z",
     "iopub.status.busy": "2024-03-29T20:07:18.078807Z",
     "iopub.status.idle": "2024-03-29T20:07:18.083769Z",
     "shell.execute_reply": "2024-03-29T20:07:18.082402Z"
    },
    "papermill": {
     "duration": 0.033559,
     "end_time": "2024-03-29T20:07:18.087099",
     "exception": false,
     "start_time": "2024-03-29T20:07:18.053540",
     "status": "completed"
    },
    "tags": []
   },
   "outputs": [],
   "source": [
    "#[year[0: 4] for year in train1.columns[3: ]]\n"
   ]
  },
  {
   "cell_type": "markdown",
   "id": "44a5190f",
   "metadata": {
    "papermill": {
     "duration": 0.022523,
     "end_time": "2024-03-29T20:07:18.132929",
     "exception": false,
     "start_time": "2024-03-29T20:07:18.110406",
     "status": "completed"
    },
    "tags": []
   },
   "source": [
    "**Modify Dataframe**"
   ]
  },
  {
   "cell_type": "code",
   "execution_count": 8,
   "id": "e1fedc30",
   "metadata": {
    "execution": {
     "iopub.execute_input": "2024-03-29T20:07:18.181320Z",
     "iopub.status.busy": "2024-03-29T20:07:18.180135Z",
     "iopub.status.idle": "2024-03-29T20:07:18.189575Z",
     "shell.execute_reply": "2024-03-29T20:07:18.188798Z"
    },
    "papermill": {
     "duration": 0.035905,
     "end_time": "2024-03-29T20:07:18.191884",
     "exception": false,
     "start_time": "2024-03-29T20:07:18.155979",
     "status": "completed"
    },
    "tags": []
   },
   "outputs": [],
   "source": [
    "def transFormDF(df, df_type):\n",
    "    if df_type == 'train':\n",
    "        df = df.drop(['Country Code'], axis = 1)\n",
    "        years = [year[0: 4] for year in df.columns[2: ]]\n",
    "    else:\n",
    "        years = [year[0: 4] for year in df.columns[2: ]]\n",
    "        \n",
    "    df = df.pivot(index = 'Country Name', columns = 'Indicator')\n",
    "    \n",
    "    data_frames = []\n",
    "    for year in years:\n",
    "        mapp = {}\n",
    "        for col in df.columns:\n",
    "            if year in col[0]:\n",
    "                mapp[col[1]] = df[col]\n",
    "        data = pd.DataFrame(mapp)\n",
    "        data['year'] = year\n",
    "        data_frames.append(data)\n",
    "    \n",
    "    new_df = pd.concat(data_frames, axis = 0)\n",
    "    return new_df\n",
    "    \n",
    "    "
   ]
  },
  {
   "cell_type": "code",
   "execution_count": 9,
   "id": "7a675edc",
   "metadata": {
    "execution": {
     "iopub.execute_input": "2024-03-29T20:07:18.239317Z",
     "iopub.status.busy": "2024-03-29T20:07:18.238648Z",
     "iopub.status.idle": "2024-03-29T20:07:18.321821Z",
     "shell.execute_reply": "2024-03-29T20:07:18.320618Z"
    },
    "papermill": {
     "duration": 0.110119,
     "end_time": "2024-03-29T20:07:18.324612",
     "exception": false,
     "start_time": "2024-03-29T20:07:18.214493",
     "status": "completed"
    },
    "tags": []
   },
   "outputs": [],
   "source": [
    "train2 = transFormDF(train1, 'train')\n",
    "test2 = transFormDF(test1, 'test')"
   ]
  },
  {
   "cell_type": "code",
   "execution_count": 10,
   "id": "e3ef5e45",
   "metadata": {
    "execution": {
     "iopub.execute_input": "2024-03-29T20:07:18.372264Z",
     "iopub.status.busy": "2024-03-29T20:07:18.371456Z",
     "iopub.status.idle": "2024-03-29T20:07:18.375772Z",
     "shell.execute_reply": "2024-03-29T20:07:18.374934Z"
    },
    "papermill": {
     "duration": 0.030587,
     "end_time": "2024-03-29T20:07:18.378093",
     "exception": false,
     "start_time": "2024-03-29T20:07:18.347506",
     "status": "completed"
    },
    "tags": []
   },
   "outputs": [],
   "source": [
    "#test2['Energy use (kg of oil equivalent per capita)']"
   ]
  },
  {
   "cell_type": "code",
   "execution_count": 11,
   "id": "3f572a6d",
   "metadata": {
    "execution": {
     "iopub.execute_input": "2024-03-29T20:07:18.426501Z",
     "iopub.status.busy": "2024-03-29T20:07:18.425882Z",
     "iopub.status.idle": "2024-03-29T20:07:18.435524Z",
     "shell.execute_reply": "2024-03-29T20:07:18.434147Z"
    },
    "papermill": {
     "duration": 0.037216,
     "end_time": "2024-03-29T20:07:18.438319",
     "exception": false,
     "start_time": "2024-03-29T20:07:18.401103",
     "status": "completed"
    },
    "tags": []
   },
   "outputs": [],
   "source": [
    "#train2.index #'Country Name' Column\n",
    "train2 = train2.reset_index() # index_column --> attribute\n",
    "test2 = test2.reset_index()"
   ]
  },
  {
   "cell_type": "code",
   "execution_count": 12,
   "id": "7df8cf28",
   "metadata": {
    "execution": {
     "iopub.execute_input": "2024-03-29T20:07:18.486350Z",
     "iopub.status.busy": "2024-03-29T20:07:18.485959Z",
     "iopub.status.idle": "2024-03-29T20:07:18.493725Z",
     "shell.execute_reply": "2024-03-29T20:07:18.492712Z"
    },
    "papermill": {
     "duration": 0.034762,
     "end_time": "2024-03-29T20:07:18.496304",
     "exception": false,
     "start_time": "2024-03-29T20:07:18.461542",
     "status": "completed"
    },
    "tags": []
   },
   "outputs": [],
   "source": [
    "train3 = train2[['Country Name', 'year', 'CO2 emissions (metric tons per capita)']]\n",
    "test3 = test2[['Country Name', 'year']]"
   ]
  },
  {
   "cell_type": "code",
   "execution_count": 13,
   "id": "0f16a565",
   "metadata": {
    "execution": {
     "iopub.execute_input": "2024-03-29T20:07:18.543910Z",
     "iopub.status.busy": "2024-03-29T20:07:18.543448Z",
     "iopub.status.idle": "2024-03-29T20:07:18.554895Z",
     "shell.execute_reply": "2024-03-29T20:07:18.553729Z"
    },
    "papermill": {
     "duration": 0.038788,
     "end_time": "2024-03-29T20:07:18.557901",
     "exception": false,
     "start_time": "2024-03-29T20:07:18.519113",
     "status": "completed"
    },
    "tags": []
   },
   "outputs": [
    {
     "data": {
      "text/html": [
       "<div>\n",
       "<style scoped>\n",
       "    .dataframe tbody tr th:only-of-type {\n",
       "        vertical-align: middle;\n",
       "    }\n",
       "\n",
       "    .dataframe tbody tr th {\n",
       "        vertical-align: top;\n",
       "    }\n",
       "\n",
       "    .dataframe thead th {\n",
       "        text-align: right;\n",
       "    }\n",
       "</style>\n",
       "<table border=\"1\" class=\"dataframe\">\n",
       "  <thead>\n",
       "    <tr style=\"text-align: right;\">\n",
       "      <th></th>\n",
       "      <th>Country Name</th>\n",
       "      <th>year</th>\n",
       "      <th>CO2 emissions (metric tons per capita)</th>\n",
       "    </tr>\n",
       "  </thead>\n",
       "  <tbody>\n",
       "    <tr>\n",
       "      <th>0</th>\n",
       "      <td>Afghanistan</td>\n",
       "      <td>2000</td>\n",
       "      <td>0.055166607</td>\n",
       "    </tr>\n",
       "    <tr>\n",
       "      <th>1</th>\n",
       "      <td>Africa Eastern and Southern</td>\n",
       "      <td>2000</td>\n",
       "      <td>0.891352058</td>\n",
       "    </tr>\n",
       "    <tr>\n",
       "      <th>2</th>\n",
       "      <td>Africa Western and Central</td>\n",
       "      <td>2000</td>\n",
       "      <td>0.521688598</td>\n",
       "    </tr>\n",
       "    <tr>\n",
       "      <th>3</th>\n",
       "      <td>Albania</td>\n",
       "      <td>2000</td>\n",
       "      <td>1.031567545</td>\n",
       "    </tr>\n",
       "    <tr>\n",
       "      <th>4</th>\n",
       "      <td>Algeria</td>\n",
       "      <td>2000</td>\n",
       "      <td>2.601065339</td>\n",
       "    </tr>\n",
       "  </tbody>\n",
       "</table>\n",
       "</div>"
      ],
      "text/plain": [
       "                  Country Name  year CO2 emissions (metric tons per capita)\n",
       "0                  Afghanistan  2000                            0.055166607\n",
       "1  Africa Eastern and Southern  2000                            0.891352058\n",
       "2   Africa Western and Central  2000                            0.521688598\n",
       "3                      Albania  2000                            1.031567545\n",
       "4                      Algeria  2000                            2.601065339"
      ]
     },
     "execution_count": 13,
     "metadata": {},
     "output_type": "execute_result"
    }
   ],
   "source": [
    "train3.head()"
   ]
  },
  {
   "cell_type": "code",
   "execution_count": 14,
   "id": "ebe7db06",
   "metadata": {
    "execution": {
     "iopub.execute_input": "2024-03-29T20:07:18.606249Z",
     "iopub.status.busy": "2024-03-29T20:07:18.605551Z",
     "iopub.status.idle": "2024-03-29T20:07:18.616104Z",
     "shell.execute_reply": "2024-03-29T20:07:18.615007Z"
    },
    "papermill": {
     "duration": 0.037585,
     "end_time": "2024-03-29T20:07:18.618628",
     "exception": false,
     "start_time": "2024-03-29T20:07:18.581043",
     "status": "completed"
    },
    "tags": []
   },
   "outputs": [
    {
     "data": {
      "text/html": [
       "<div>\n",
       "<style scoped>\n",
       "    .dataframe tbody tr th:only-of-type {\n",
       "        vertical-align: middle;\n",
       "    }\n",
       "\n",
       "    .dataframe tbody tr th {\n",
       "        vertical-align: top;\n",
       "    }\n",
       "\n",
       "    .dataframe thead th {\n",
       "        text-align: right;\n",
       "    }\n",
       "</style>\n",
       "<table border=\"1\" class=\"dataframe\">\n",
       "  <thead>\n",
       "    <tr style=\"text-align: right;\">\n",
       "      <th></th>\n",
       "      <th>Country Name</th>\n",
       "      <th>year</th>\n",
       "    </tr>\n",
       "  </thead>\n",
       "  <tbody>\n",
       "    <tr>\n",
       "      <th>0</th>\n",
       "      <td>Afghanistan</td>\n",
       "      <td>2016</td>\n",
       "    </tr>\n",
       "    <tr>\n",
       "      <th>1</th>\n",
       "      <td>Africa Eastern and Southern</td>\n",
       "      <td>2016</td>\n",
       "    </tr>\n",
       "    <tr>\n",
       "      <th>2</th>\n",
       "      <td>Africa Western and Central</td>\n",
       "      <td>2016</td>\n",
       "    </tr>\n",
       "    <tr>\n",
       "      <th>3</th>\n",
       "      <td>Albania</td>\n",
       "      <td>2016</td>\n",
       "    </tr>\n",
       "    <tr>\n",
       "      <th>4</th>\n",
       "      <td>Algeria</td>\n",
       "      <td>2016</td>\n",
       "    </tr>\n",
       "  </tbody>\n",
       "</table>\n",
       "</div>"
      ],
      "text/plain": [
       "                  Country Name  year\n",
       "0                  Afghanistan  2016\n",
       "1  Africa Eastern and Southern  2016\n",
       "2   Africa Western and Central  2016\n",
       "3                      Albania  2016\n",
       "4                      Algeria  2016"
      ]
     },
     "execution_count": 14,
     "metadata": {},
     "output_type": "execute_result"
    }
   ],
   "source": [
    "test3.head()"
   ]
  },
  {
   "cell_type": "code",
   "execution_count": 15,
   "id": "facb7b6a",
   "metadata": {
    "execution": {
     "iopub.execute_input": "2024-03-29T20:07:18.666806Z",
     "iopub.status.busy": "2024-03-29T20:07:18.666367Z",
     "iopub.status.idle": "2024-03-29T20:07:18.678932Z",
     "shell.execute_reply": "2024-03-29T20:07:18.677950Z"
    },
    "papermill": {
     "duration": 0.039977,
     "end_time": "2024-03-29T20:07:18.681796",
     "exception": false,
     "start_time": "2024-03-29T20:07:18.641819",
     "status": "completed"
    },
    "tags": []
   },
   "outputs": [],
   "source": [
    "train3 = train3.sort_values(by = ['Country Name', 'year'])\n",
    "test3 = test3.sort_values(by = ['Country Name', 'year'])"
   ]
  },
  {
   "cell_type": "code",
   "execution_count": 16,
   "id": "0d8050f6",
   "metadata": {
    "execution": {
     "iopub.execute_input": "2024-03-29T20:07:18.732004Z",
     "iopub.status.busy": "2024-03-29T20:07:18.731619Z",
     "iopub.status.idle": "2024-03-29T20:07:18.735948Z",
     "shell.execute_reply": "2024-03-29T20:07:18.734829Z"
    },
    "papermill": {
     "duration": 0.032921,
     "end_time": "2024-03-29T20:07:18.738463",
     "exception": false,
     "start_time": "2024-03-29T20:07:18.705542",
     "status": "completed"
    },
    "tags": []
   },
   "outputs": [],
   "source": [
    "#train3.head()\n",
    "#test3.head()"
   ]
  },
  {
   "cell_type": "markdown",
   "id": "fe6ad261",
   "metadata": {
    "papermill": {
     "duration": 0.023791,
     "end_time": "2024-03-29T20:07:18.786115",
     "exception": false,
     "start_time": "2024-03-29T20:07:18.762324",
     "status": "completed"
    },
    "tags": []
   },
   "source": [
    "**Missing Value Checking**"
   ]
  },
  {
   "cell_type": "code",
   "execution_count": 17,
   "id": "d1b86359",
   "metadata": {
    "execution": {
     "iopub.execute_input": "2024-03-29T20:07:18.835651Z",
     "iopub.status.busy": "2024-03-29T20:07:18.835239Z",
     "iopub.status.idle": "2024-03-29T20:07:18.845845Z",
     "shell.execute_reply": "2024-03-29T20:07:18.844654Z"
    },
    "papermill": {
     "duration": 0.038126,
     "end_time": "2024-03-29T20:07:18.848130",
     "exception": false,
     "start_time": "2024-03-29T20:07:18.810004",
     "status": "completed"
    },
    "tags": []
   },
   "outputs": [
    {
     "data": {
      "text/plain": [
       "Country Name                              0\n",
       "year                                      0\n",
       "CO2 emissions (metric tons per capita)    0\n",
       "dtype: int64"
      ]
     },
     "execution_count": 17,
     "metadata": {},
     "output_type": "execute_result"
    }
   ],
   "source": [
    "train3.isnull().sum()"
   ]
  },
  {
   "cell_type": "code",
   "execution_count": 18,
   "id": "e93a1a5c",
   "metadata": {
    "execution": {
     "iopub.execute_input": "2024-03-29T20:07:18.958251Z",
     "iopub.status.busy": "2024-03-29T20:07:18.957870Z",
     "iopub.status.idle": "2024-03-29T20:07:18.966324Z",
     "shell.execute_reply": "2024-03-29T20:07:18.965186Z"
    },
    "papermill": {
     "duration": 0.03575,
     "end_time": "2024-03-29T20:07:18.968856",
     "exception": false,
     "start_time": "2024-03-29T20:07:18.933106",
     "status": "completed"
    },
    "tags": []
   },
   "outputs": [
    {
     "data": {
      "text/plain": [
       "Country Name    0\n",
       "year            0\n",
       "dtype: int64"
      ]
     },
     "execution_count": 18,
     "metadata": {},
     "output_type": "execute_result"
    }
   ],
   "source": [
    "test3.isnull().sum()"
   ]
  },
  {
   "cell_type": "markdown",
   "id": "b4ae3296",
   "metadata": {
    "papermill": {
     "duration": 0.023191,
     "end_time": "2024-03-29T20:07:19.015319",
     "exception": false,
     "start_time": "2024-03-29T20:07:18.992128",
     "status": "completed"
    },
    "tags": []
   },
   "source": []
  },
  {
   "cell_type": "code",
   "execution_count": 19,
   "id": "ee335763",
   "metadata": {
    "execution": {
     "iopub.execute_input": "2024-03-29T20:07:19.064603Z",
     "iopub.status.busy": "2024-03-29T20:07:19.063545Z",
     "iopub.status.idle": "2024-03-29T20:07:19.083516Z",
     "shell.execute_reply": "2024-03-29T20:07:19.082326Z"
    },
    "papermill": {
     "duration": 0.047759,
     "end_time": "2024-03-29T20:07:19.086532",
     "exception": false,
     "start_time": "2024-03-29T20:07:19.038773",
     "status": "completed"
    },
    "tags": []
   },
   "outputs": [
    {
     "name": "stdout",
     "output_type": "stream",
     "text": [
      "<class 'pandas.core.frame.DataFrame'>\n",
      "Index: 4256 entries, 0 to 4255\n",
      "Data columns (total 3 columns):\n",
      " #   Column                                  Non-Null Count  Dtype \n",
      "---  ------                                  --------------  ----- \n",
      " 0   Country Name                            4256 non-null   object\n",
      " 1   year                                    4256 non-null   object\n",
      " 2   CO2 emissions (metric tons per capita)  4256 non-null   object\n",
      "dtypes: object(3)\n",
      "memory usage: 133.0+ KB\n"
     ]
    }
   ],
   "source": [
    "train3.info()"
   ]
  },
  {
   "cell_type": "markdown",
   "id": "11f4ccfd",
   "metadata": {
    "papermill": {
     "duration": 0.024827,
     "end_time": "2024-03-29T20:07:19.136170",
     "exception": false,
     "start_time": "2024-03-29T20:07:19.111343",
     "status": "completed"
    },
    "tags": []
   },
   "source": []
  },
  {
   "cell_type": "markdown",
   "id": "cefae047",
   "metadata": {
    "papermill": {
     "duration": 0.024215,
     "end_time": "2024-03-29T20:07:19.184358",
     "exception": false,
     "start_time": "2024-03-29T20:07:19.160143",
     "status": "completed"
    },
    "tags": []
   },
   "source": [
    "****Convert datatype object to numeric****"
   ]
  },
  {
   "cell_type": "code",
   "execution_count": 20,
   "id": "c2fd3c9c",
   "metadata": {
    "execution": {
     "iopub.execute_input": "2024-03-29T20:07:19.234740Z",
     "iopub.status.busy": "2024-03-29T20:07:19.234309Z",
     "iopub.status.idle": "2024-03-29T20:07:19.253524Z",
     "shell.execute_reply": "2024-03-29T20:07:19.252474Z"
    },
    "papermill": {
     "duration": 0.047189,
     "end_time": "2024-03-29T20:07:19.256119",
     "exception": false,
     "start_time": "2024-03-29T20:07:19.208930",
     "status": "completed"
    },
    "tags": []
   },
   "outputs": [],
   "source": [
    "train3[train3.columns[1: ]] = train3[train3.columns[1: ]].apply(pd.to_numeric, errors='coerce')\n",
    "test3['year'] = pd.to_numeric(test3['year'], errors='coerce')"
   ]
  },
  {
   "cell_type": "code",
   "execution_count": 21,
   "id": "751904cf",
   "metadata": {
    "execution": {
     "iopub.execute_input": "2024-03-29T20:07:19.305919Z",
     "iopub.status.busy": "2024-03-29T20:07:19.305135Z",
     "iopub.status.idle": "2024-03-29T20:07:19.309536Z",
     "shell.execute_reply": "2024-03-29T20:07:19.308761Z"
    },
    "papermill": {
     "duration": 0.032272,
     "end_time": "2024-03-29T20:07:19.311861",
     "exception": false,
     "start_time": "2024-03-29T20:07:19.279589",
     "status": "completed"
    },
    "tags": []
   },
   "outputs": [],
   "source": [
    "#train3.head()\n",
    "#test3.head()"
   ]
  },
  {
   "cell_type": "code",
   "execution_count": 22,
   "id": "a2691ddc",
   "metadata": {
    "execution": {
     "iopub.execute_input": "2024-03-29T20:07:19.361300Z",
     "iopub.status.busy": "2024-03-29T20:07:19.360492Z",
     "iopub.status.idle": "2024-03-29T20:07:19.364918Z",
     "shell.execute_reply": "2024-03-29T20:07:19.364141Z"
    },
    "papermill": {
     "duration": 0.031936,
     "end_time": "2024-03-29T20:07:19.367242",
     "exception": false,
     "start_time": "2024-03-29T20:07:19.335306",
     "status": "completed"
    },
    "tags": []
   },
   "outputs": [],
   "source": [
    "#train3.info()\n",
    "#test3.info()"
   ]
  },
  {
   "cell_type": "markdown",
   "id": "0a9799a9",
   "metadata": {
    "papermill": {
     "duration": 0.023596,
     "end_time": "2024-03-29T20:07:19.414183",
     "exception": false,
     "start_time": "2024-03-29T20:07:19.390587",
     "status": "completed"
    },
    "tags": []
   },
   "source": []
  },
  {
   "cell_type": "code",
   "execution_count": 23,
   "id": "64b90615",
   "metadata": {
    "execution": {
     "iopub.execute_input": "2024-03-29T20:07:19.463792Z",
     "iopub.status.busy": "2024-03-29T20:07:19.462997Z",
     "iopub.status.idle": "2024-03-29T20:07:19.472403Z",
     "shell.execute_reply": "2024-03-29T20:07:19.471350Z"
    },
    "papermill": {
     "duration": 0.036967,
     "end_time": "2024-03-29T20:07:19.474771",
     "exception": false,
     "start_time": "2024-03-29T20:07:19.437804",
     "status": "completed"
    },
    "tags": []
   },
   "outputs": [
    {
     "data": {
      "text/plain": [
       "Country Name                                0\n",
       "year                                        0\n",
       "CO2 emissions (metric tons per capita)    432\n",
       "dtype: int64"
      ]
     },
     "execution_count": 23,
     "metadata": {},
     "output_type": "execute_result"
    }
   ],
   "source": [
    "train3.isnull().sum()\n",
    "#test3.isnull().sum()"
   ]
  },
  {
   "cell_type": "markdown",
   "id": "f77870d1",
   "metadata": {
    "papermill": {
     "duration": 0.023689,
     "end_time": "2024-03-29T20:07:19.522054",
     "exception": false,
     "start_time": "2024-03-29T20:07:19.498365",
     "status": "completed"
    },
    "tags": []
   },
   "source": [
    "**Fill Up Null values Using Mean**"
   ]
  },
  {
   "cell_type": "code",
   "execution_count": 24,
   "id": "65e59888",
   "metadata": {
    "execution": {
     "iopub.execute_input": "2024-03-29T20:07:19.572294Z",
     "iopub.status.busy": "2024-03-29T20:07:19.571446Z",
     "iopub.status.idle": "2024-03-29T20:07:19.578926Z",
     "shell.execute_reply": "2024-03-29T20:07:19.577632Z"
    },
    "papermill": {
     "duration": 0.035363,
     "end_time": "2024-03-29T20:07:19.581296",
     "exception": false,
     "start_time": "2024-03-29T20:07:19.545933",
     "status": "completed"
    },
    "tags": []
   },
   "outputs": [
    {
     "name": "stderr",
     "output_type": "stream",
     "text": [
      "/tmp/ipykernel_18/1636053970.py:1: FutureWarning: A value is trying to be set on a copy of a DataFrame or Series through chained assignment using an inplace method.\n",
      "The behavior will change in pandas 3.0. This inplace method will never work because the intermediate object on which we are setting values always behaves as a copy.\n",
      "\n",
      "For example, when doing 'df[col].method(value, inplace=True)', try using 'df.method({col: value}, inplace=True)' or df[col] = df[col].method(value) instead, to perform the operation inplace on the original object.\n",
      "\n",
      "\n",
      "  train3['CO2 emissions (metric tons per capita)'].fillna(train3['CO2 emissions (metric tons per capita)'].mean(), inplace = True)\n"
     ]
    }
   ],
   "source": [
    "train3['CO2 emissions (metric tons per capita)'].fillna(train3['CO2 emissions (metric tons per capita)'].mean(), inplace = True)\n",
    "    \n"
   ]
  },
  {
   "cell_type": "code",
   "execution_count": 25,
   "id": "698920b2",
   "metadata": {
    "execution": {
     "iopub.execute_input": "2024-03-29T20:07:19.631313Z",
     "iopub.status.busy": "2024-03-29T20:07:19.630583Z",
     "iopub.status.idle": "2024-03-29T20:07:19.638588Z",
     "shell.execute_reply": "2024-03-29T20:07:19.637834Z"
    },
    "papermill": {
     "duration": 0.035648,
     "end_time": "2024-03-29T20:07:19.640726",
     "exception": false,
     "start_time": "2024-03-29T20:07:19.605078",
     "status": "completed"
    },
    "tags": []
   },
   "outputs": [
    {
     "data": {
      "text/plain": [
       "Country Name                              0\n",
       "year                                      0\n",
       "CO2 emissions (metric tons per capita)    0\n",
       "dtype: int64"
      ]
     },
     "execution_count": 25,
     "metadata": {},
     "output_type": "execute_result"
    }
   ],
   "source": [
    "train3.isnull().sum()"
   ]
  },
  {
   "cell_type": "code",
   "execution_count": 26,
   "id": "7e4cc877",
   "metadata": {
    "execution": {
     "iopub.execute_input": "2024-03-29T20:07:19.691296Z",
     "iopub.status.busy": "2024-03-29T20:07:19.690044Z",
     "iopub.status.idle": "2024-03-29T20:07:19.694802Z",
     "shell.execute_reply": "2024-03-29T20:07:19.693955Z"
    },
    "papermill": {
     "duration": 0.032243,
     "end_time": "2024-03-29T20:07:19.697027",
     "exception": false,
     "start_time": "2024-03-29T20:07:19.664784",
     "status": "completed"
    },
    "tags": []
   },
   "outputs": [],
   "source": [
    "#train3.info()"
   ]
  },
  {
   "cell_type": "markdown",
   "id": "1ac08853",
   "metadata": {
    "papermill": {
     "duration": 0.02534,
     "end_time": "2024-03-29T20:07:19.746428",
     "exception": false,
     "start_time": "2024-03-29T20:07:19.721088",
     "status": "completed"
    },
    "tags": []
   },
   "source": [
    "**Encoding Country Name Column**"
   ]
  },
  {
   "cell_type": "code",
   "execution_count": 27,
   "id": "afd4ee54",
   "metadata": {
    "execution": {
     "iopub.execute_input": "2024-03-29T20:07:19.797958Z",
     "iopub.status.busy": "2024-03-29T20:07:19.797044Z",
     "iopub.status.idle": "2024-03-29T20:07:20.997063Z",
     "shell.execute_reply": "2024-03-29T20:07:20.995915Z"
    },
    "papermill": {
     "duration": 1.22875,
     "end_time": "2024-03-29T20:07:20.999609",
     "exception": false,
     "start_time": "2024-03-29T20:07:19.770859",
     "status": "completed"
    },
    "tags": []
   },
   "outputs": [],
   "source": [
    "from sklearn import preprocessing\n",
    "label_encoder = preprocessing.LabelEncoder()\n",
    "\n",
    "train3['Country Name'] = label_encoder.fit_transform(train3['Country Name']) \n",
    "test3['Country Name'] = label_encoder.fit_transform(test3['Country Name']) "
   ]
  },
  {
   "cell_type": "code",
   "execution_count": 28,
   "id": "f53dcc11",
   "metadata": {
    "execution": {
     "iopub.execute_input": "2024-03-29T20:07:21.048479Z",
     "iopub.status.busy": "2024-03-29T20:07:21.047490Z",
     "iopub.status.idle": "2024-03-29T20:07:21.052921Z",
     "shell.execute_reply": "2024-03-29T20:07:21.051754Z"
    },
    "papermill": {
     "duration": 0.033591,
     "end_time": "2024-03-29T20:07:21.056379",
     "exception": false,
     "start_time": "2024-03-29T20:07:21.022788",
     "status": "completed"
    },
    "tags": []
   },
   "outputs": [],
   "source": [
    "#train3.head()\n",
    "#test3.head()"
   ]
  },
  {
   "cell_type": "markdown",
   "id": "3e884e0b",
   "metadata": {
    "papermill": {
     "duration": 0.030893,
     "end_time": "2024-03-29T20:07:21.116423",
     "exception": false,
     "start_time": "2024-03-29T20:07:21.085530",
     "status": "completed"
    },
    "tags": []
   },
   "source": [
    "**Model Building**"
   ]
  },
  {
   "cell_type": "code",
   "execution_count": 29,
   "id": "5e9209bc",
   "metadata": {
    "execution": {
     "iopub.execute_input": "2024-03-29T20:07:21.171016Z",
     "iopub.status.busy": "2024-03-29T20:07:21.170445Z",
     "iopub.status.idle": "2024-03-29T20:07:21.369594Z",
     "shell.execute_reply": "2024-03-29T20:07:21.368347Z"
    },
    "papermill": {
     "duration": 0.229578,
     "end_time": "2024-03-29T20:07:21.372583",
     "exception": false,
     "start_time": "2024-03-29T20:07:21.143005",
     "status": "completed"
    },
    "tags": []
   },
   "outputs": [],
   "source": [
    "from sklearn.linear_model import LinearRegression\n",
    "model = LinearRegression()"
   ]
  },
  {
   "cell_type": "code",
   "execution_count": 30,
   "id": "a3400912",
   "metadata": {
    "execution": {
     "iopub.execute_input": "2024-03-29T20:07:21.427576Z",
     "iopub.status.busy": "2024-03-29T20:07:21.426184Z",
     "iopub.status.idle": "2024-03-29T20:07:21.435118Z",
     "shell.execute_reply": "2024-03-29T20:07:21.433762Z"
    },
    "papermill": {
     "duration": 0.041332,
     "end_time": "2024-03-29T20:07:21.438237",
     "exception": false,
     "start_time": "2024-03-29T20:07:21.396905",
     "status": "completed"
    },
    "tags": []
   },
   "outputs": [],
   "source": [
    "Y_train = train3['CO2 emissions (metric tons per capita)']\n",
    "X_train = train3.drop(['CO2 emissions (metric tons per capita)'], axis = 1)"
   ]
  },
  {
   "cell_type": "code",
   "execution_count": 31,
   "id": "5e5a8bfd",
   "metadata": {
    "execution": {
     "iopub.execute_input": "2024-03-29T20:07:21.492229Z",
     "iopub.status.busy": "2024-03-29T20:07:21.491712Z",
     "iopub.status.idle": "2024-03-29T20:07:21.524868Z",
     "shell.execute_reply": "2024-03-29T20:07:21.523832Z"
    },
    "papermill": {
     "duration": 0.061672,
     "end_time": "2024-03-29T20:07:21.527577",
     "exception": false,
     "start_time": "2024-03-29T20:07:21.465905",
     "status": "completed"
    },
    "tags": []
   },
   "outputs": [
    {
     "data": {
      "text/html": [
       "<style>#sk-container-id-1 {color: black;background-color: white;}#sk-container-id-1 pre{padding: 0;}#sk-container-id-1 div.sk-toggleable {background-color: white;}#sk-container-id-1 label.sk-toggleable__label {cursor: pointer;display: block;width: 100%;margin-bottom: 0;padding: 0.3em;box-sizing: border-box;text-align: center;}#sk-container-id-1 label.sk-toggleable__label-arrow:before {content: \"▸\";float: left;margin-right: 0.25em;color: #696969;}#sk-container-id-1 label.sk-toggleable__label-arrow:hover:before {color: black;}#sk-container-id-1 div.sk-estimator:hover label.sk-toggleable__label-arrow:before {color: black;}#sk-container-id-1 div.sk-toggleable__content {max-height: 0;max-width: 0;overflow: hidden;text-align: left;background-color: #f0f8ff;}#sk-container-id-1 div.sk-toggleable__content pre {margin: 0.2em;color: black;border-radius: 0.25em;background-color: #f0f8ff;}#sk-container-id-1 input.sk-toggleable__control:checked~div.sk-toggleable__content {max-height: 200px;max-width: 100%;overflow: auto;}#sk-container-id-1 input.sk-toggleable__control:checked~label.sk-toggleable__label-arrow:before {content: \"▾\";}#sk-container-id-1 div.sk-estimator input.sk-toggleable__control:checked~label.sk-toggleable__label {background-color: #d4ebff;}#sk-container-id-1 div.sk-label input.sk-toggleable__control:checked~label.sk-toggleable__label {background-color: #d4ebff;}#sk-container-id-1 input.sk-hidden--visually {border: 0;clip: rect(1px 1px 1px 1px);clip: rect(1px, 1px, 1px, 1px);height: 1px;margin: -1px;overflow: hidden;padding: 0;position: absolute;width: 1px;}#sk-container-id-1 div.sk-estimator {font-family: monospace;background-color: #f0f8ff;border: 1px dotted black;border-radius: 0.25em;box-sizing: border-box;margin-bottom: 0.5em;}#sk-container-id-1 div.sk-estimator:hover {background-color: #d4ebff;}#sk-container-id-1 div.sk-parallel-item::after {content: \"\";width: 100%;border-bottom: 1px solid gray;flex-grow: 1;}#sk-container-id-1 div.sk-label:hover label.sk-toggleable__label {background-color: #d4ebff;}#sk-container-id-1 div.sk-serial::before {content: \"\";position: absolute;border-left: 1px solid gray;box-sizing: border-box;top: 0;bottom: 0;left: 50%;z-index: 0;}#sk-container-id-1 div.sk-serial {display: flex;flex-direction: column;align-items: center;background-color: white;padding-right: 0.2em;padding-left: 0.2em;position: relative;}#sk-container-id-1 div.sk-item {position: relative;z-index: 1;}#sk-container-id-1 div.sk-parallel {display: flex;align-items: stretch;justify-content: center;background-color: white;position: relative;}#sk-container-id-1 div.sk-item::before, #sk-container-id-1 div.sk-parallel-item::before {content: \"\";position: absolute;border-left: 1px solid gray;box-sizing: border-box;top: 0;bottom: 0;left: 50%;z-index: -1;}#sk-container-id-1 div.sk-parallel-item {display: flex;flex-direction: column;z-index: 1;position: relative;background-color: white;}#sk-container-id-1 div.sk-parallel-item:first-child::after {align-self: flex-end;width: 50%;}#sk-container-id-1 div.sk-parallel-item:last-child::after {align-self: flex-start;width: 50%;}#sk-container-id-1 div.sk-parallel-item:only-child::after {width: 0;}#sk-container-id-1 div.sk-dashed-wrapped {border: 1px dashed gray;margin: 0 0.4em 0.5em 0.4em;box-sizing: border-box;padding-bottom: 0.4em;background-color: white;}#sk-container-id-1 div.sk-label label {font-family: monospace;font-weight: bold;display: inline-block;line-height: 1.2em;}#sk-container-id-1 div.sk-label-container {text-align: center;}#sk-container-id-1 div.sk-container {/* jupyter's `normalize.less` sets `[hidden] { display: none; }` but bootstrap.min.css set `[hidden] { display: none !important; }` so we also need the `!important` here to be able to override the default hidden behavior on the sphinx rendered scikit-learn.org. See: https://github.com/scikit-learn/scikit-learn/issues/21755 */display: inline-block !important;position: relative;}#sk-container-id-1 div.sk-text-repr-fallback {display: none;}</style><div id=\"sk-container-id-1\" class=\"sk-top-container\"><div class=\"sk-text-repr-fallback\"><pre>LinearRegression()</pre><b>In a Jupyter environment, please rerun this cell to show the HTML representation or trust the notebook. <br />On GitHub, the HTML representation is unable to render, please try loading this page with nbviewer.org.</b></div><div class=\"sk-container\" hidden><div class=\"sk-item\"><div class=\"sk-estimator sk-toggleable\"><input class=\"sk-toggleable__control sk-hidden--visually\" id=\"sk-estimator-id-1\" type=\"checkbox\" checked><label for=\"sk-estimator-id-1\" class=\"sk-toggleable__label sk-toggleable__label-arrow\">LinearRegression</label><div class=\"sk-toggleable__content\"><pre>LinearRegression()</pre></div></div></div></div></div>"
      ],
      "text/plain": [
       "LinearRegression()"
      ]
     },
     "execution_count": 31,
     "metadata": {},
     "output_type": "execute_result"
    }
   ],
   "source": [
    "model.fit(X_train, Y_train)"
   ]
  },
  {
   "cell_type": "code",
   "execution_count": 32,
   "id": "bff18466",
   "metadata": {
    "execution": {
     "iopub.execute_input": "2024-03-29T20:07:21.577319Z",
     "iopub.status.busy": "2024-03-29T20:07:21.576884Z",
     "iopub.status.idle": "2024-03-29T20:07:21.587063Z",
     "shell.execute_reply": "2024-03-29T20:07:21.586030Z"
    },
    "papermill": {
     "duration": 0.037519,
     "end_time": "2024-03-29T20:07:21.589162",
     "exception": false,
     "start_time": "2024-03-29T20:07:21.551643",
     "status": "completed"
    },
    "tags": []
   },
   "outputs": [
    {
     "data": {
      "text/plain": [
       "0.000473661573353823"
      ]
     },
     "execution_count": 32,
     "metadata": {},
     "output_type": "execute_result"
    }
   ],
   "source": [
    "model.score(X_train, Y_train)"
   ]
  },
  {
   "cell_type": "code",
   "execution_count": 33,
   "id": "bf0c71c6",
   "metadata": {
    "execution": {
     "iopub.execute_input": "2024-03-29T20:07:21.640009Z",
     "iopub.status.busy": "2024-03-29T20:07:21.639612Z",
     "iopub.status.idle": "2024-03-29T20:07:21.646152Z",
     "shell.execute_reply": "2024-03-29T20:07:21.645064Z"
    },
    "papermill": {
     "duration": 0.034522,
     "end_time": "2024-03-29T20:07:21.648319",
     "exception": false,
     "start_time": "2024-03-29T20:07:21.613797",
     "status": "completed"
    },
    "tags": []
   },
   "outputs": [],
   "source": [
    "Y_pred = model.predict(test3)"
   ]
  },
  {
   "cell_type": "markdown",
   "id": "eb4f3495",
   "metadata": {
    "papermill": {
     "duration": 0.024153,
     "end_time": "2024-03-29T20:07:21.696947",
     "exception": false,
     "start_time": "2024-03-29T20:07:21.672794",
     "status": "completed"
    },
    "tags": []
   },
   "source": []
  },
  {
   "cell_type": "code",
   "execution_count": 34,
   "id": "51bbadbe",
   "metadata": {
    "execution": {
     "iopub.execute_input": "2024-03-29T20:07:21.748562Z",
     "iopub.status.busy": "2024-03-29T20:07:21.748157Z",
     "iopub.status.idle": "2024-03-29T20:07:21.755347Z",
     "shell.execute_reply": "2024-03-29T20:07:21.754246Z"
    },
    "papermill": {
     "duration": 0.036096,
     "end_time": "2024-03-29T20:07:21.757612",
     "exception": false,
     "start_time": "2024-03-29T20:07:21.721516",
     "status": "completed"
    },
    "tags": []
   },
   "outputs": [
    {
     "data": {
      "text/plain": [
       "array([4.1061207 , 4.11019639, 4.11427209, ..., 4.48205364, 4.48612933,\n",
       "       4.49020503])"
      ]
     },
     "execution_count": 34,
     "metadata": {},
     "output_type": "execute_result"
    }
   ],
   "source": [
    "Y_pred"
   ]
  },
  {
   "cell_type": "code",
   "execution_count": 35,
   "id": "5764f921",
   "metadata": {
    "execution": {
     "iopub.execute_input": "2024-03-29T20:07:21.808881Z",
     "iopub.status.busy": "2024-03-29T20:07:21.808414Z",
     "iopub.status.idle": "2024-03-29T20:07:21.830592Z",
     "shell.execute_reply": "2024-03-29T20:07:21.829295Z"
    },
    "papermill": {
     "duration": 0.05177,
     "end_time": "2024-03-29T20:07:21.833971",
     "exception": false,
     "start_time": "2024-03-29T20:07:21.782201",
     "status": "completed"
    },
    "tags": []
   },
   "outputs": [
    {
     "data": {
      "text/html": [
       "<div>\n",
       "<style scoped>\n",
       "    .dataframe tbody tr th:only-of-type {\n",
       "        vertical-align: middle;\n",
       "    }\n",
       "\n",
       "    .dataframe tbody tr th {\n",
       "        vertical-align: top;\n",
       "    }\n",
       "\n",
       "    .dataframe thead th {\n",
       "        text-align: right;\n",
       "    }\n",
       "</style>\n",
       "<table border=\"1\" class=\"dataframe\">\n",
       "  <thead>\n",
       "    <tr style=\"text-align: right;\">\n",
       "      <th></th>\n",
       "      <th>Country Name</th>\n",
       "      <th>2016 [YR2016]</th>\n",
       "      <th>2017 [YR2017]</th>\n",
       "      <th>2018 [YR2018]</th>\n",
       "      <th>2019 [YR2019]</th>\n",
       "      <th>2020 [YR2020]</th>\n",
       "      <th>2030 [YR2030]</th>\n",
       "    </tr>\n",
       "  </thead>\n",
       "  <tbody>\n",
       "    <tr>\n",
       "      <th>0</th>\n",
       "      <td>Afghanistan</td>\n",
       "      <td>3.2253</td>\n",
       "      <td>1.1712</td>\n",
       "      <td>3.7364</td>\n",
       "      <td>0.6141</td>\n",
       "      <td>1.9883</td>\n",
       "      <td>0.0942</td>\n",
       "    </tr>\n",
       "    <tr>\n",
       "      <th>1</th>\n",
       "      <td>Albania</td>\n",
       "      <td>2.3565</td>\n",
       "      <td>2.3681</td>\n",
       "      <td>2.1690</td>\n",
       "      <td>1.5303</td>\n",
       "      <td>3.5665</td>\n",
       "      <td>1.7349</td>\n",
       "    </tr>\n",
       "    <tr>\n",
       "      <th>2</th>\n",
       "      <td>Algeria</td>\n",
       "      <td>1.0482</td>\n",
       "      <td>1.2839</td>\n",
       "      <td>1.5509</td>\n",
       "      <td>2.4556</td>\n",
       "      <td>3.0417</td>\n",
       "      <td>0.0114</td>\n",
       "    </tr>\n",
       "    <tr>\n",
       "      <th>3</th>\n",
       "      <td>American Samoa</td>\n",
       "      <td>3.5276</td>\n",
       "      <td>3.1392</td>\n",
       "      <td>1.1129</td>\n",
       "      <td>1.6479</td>\n",
       "      <td>3.1007</td>\n",
       "      <td>0.6840</td>\n",
       "    </tr>\n",
       "    <tr>\n",
       "      <th>4</th>\n",
       "      <td>Andorra</td>\n",
       "      <td>0.8961</td>\n",
       "      <td>3.9242</td>\n",
       "      <td>0.0745</td>\n",
       "      <td>2.0379</td>\n",
       "      <td>3.0965</td>\n",
       "      <td>2.1794</td>\n",
       "    </tr>\n",
       "  </tbody>\n",
       "</table>\n",
       "</div>"
      ],
      "text/plain": [
       "     Country Name  2016 [YR2016]  2017 [YR2017]  2018 [YR2018]  2019 [YR2019]  \\\n",
       "0     Afghanistan         3.2253         1.1712         3.7364         0.6141   \n",
       "1         Albania         2.3565         2.3681         2.1690         1.5303   \n",
       "2         Algeria         1.0482         1.2839         1.5509         2.4556   \n",
       "3  American Samoa         3.5276         3.1392         1.1129         1.6479   \n",
       "4         Andorra         0.8961         3.9242         0.0745         2.0379   \n",
       "\n",
       "   2020 [YR2020]  2030 [YR2030]  \n",
       "0         1.9883         0.0942  \n",
       "1         3.5665         1.7349  \n",
       "2         3.0417         0.0114  \n",
       "3         3.1007         0.6840  \n",
       "4         3.0965         2.1794  "
      ]
     },
     "execution_count": 35,
     "metadata": {},
     "output_type": "execute_result"
    }
   ],
   "source": [
    "sample_submission.head()"
   ]
  },
  {
   "cell_type": "markdown",
   "id": "c7951b7d",
   "metadata": {
    "papermill": {
     "duration": 0.024551,
     "end_time": "2024-03-29T20:07:21.888355",
     "exception": false,
     "start_time": "2024-03-29T20:07:21.863804",
     "status": "completed"
    },
    "tags": []
   },
   "source": [
    "**Making New Dataframe To Predict**"
   ]
  },
  {
   "cell_type": "code",
   "execution_count": 36,
   "id": "76c8f250",
   "metadata": {
    "execution": {
     "iopub.execute_input": "2024-03-29T20:07:21.941365Z",
     "iopub.status.busy": "2024-03-29T20:07:21.940994Z",
     "iopub.status.idle": "2024-03-29T20:07:21.948841Z",
     "shell.execute_reply": "2024-03-29T20:07:21.947701Z"
    },
    "papermill": {
     "duration": 0.036558,
     "end_time": "2024-03-29T20:07:21.951281",
     "exception": false,
     "start_time": "2024-03-29T20:07:21.914723",
     "status": "completed"
    },
    "tags": []
   },
   "outputs": [],
   "source": [
    "countries = test1['Country Name'].unique().tolist()\n",
    "years = [2016, 2017, 2018, 2019, 2020, 2030]\n",
    "country_year = []\n",
    "for country in countries:\n",
    "    for year in years:\n",
    "        s = country + '_' + str(year)\n",
    "        country_year.append(s)"
   ]
  },
  {
   "cell_type": "code",
   "execution_count": 37,
   "id": "1f699e1e",
   "metadata": {
    "execution": {
     "iopub.execute_input": "2024-03-29T20:07:22.003221Z",
     "iopub.status.busy": "2024-03-29T20:07:22.002799Z",
     "iopub.status.idle": "2024-03-29T20:07:22.007975Z",
     "shell.execute_reply": "2024-03-29T20:07:22.006897Z"
    },
    "papermill": {
     "duration": 0.034214,
     "end_time": "2024-03-29T20:07:22.010451",
     "exception": false,
     "start_time": "2024-03-29T20:07:21.976237",
     "status": "completed"
    },
    "tags": []
   },
   "outputs": [],
   "source": [
    "test_df = pd.DataFrame({'Country Name': country_year})"
   ]
  },
  {
   "cell_type": "code",
   "execution_count": 38,
   "id": "ca2cca24",
   "metadata": {
    "execution": {
     "iopub.execute_input": "2024-03-29T20:07:22.062516Z",
     "iopub.status.busy": "2024-03-29T20:07:22.062155Z",
     "iopub.status.idle": "2024-03-29T20:07:22.071797Z",
     "shell.execute_reply": "2024-03-29T20:07:22.070657Z"
    },
    "papermill": {
     "duration": 0.03885,
     "end_time": "2024-03-29T20:07:22.074407",
     "exception": false,
     "start_time": "2024-03-29T20:07:22.035557",
     "status": "completed"
    },
    "tags": []
   },
   "outputs": [
    {
     "data": {
      "text/html": [
       "<div>\n",
       "<style scoped>\n",
       "    .dataframe tbody tr th:only-of-type {\n",
       "        vertical-align: middle;\n",
       "    }\n",
       "\n",
       "    .dataframe tbody tr th {\n",
       "        vertical-align: top;\n",
       "    }\n",
       "\n",
       "    .dataframe thead th {\n",
       "        text-align: right;\n",
       "    }\n",
       "</style>\n",
       "<table border=\"1\" class=\"dataframe\">\n",
       "  <thead>\n",
       "    <tr style=\"text-align: right;\">\n",
       "      <th></th>\n",
       "      <th>Country Name</th>\n",
       "    </tr>\n",
       "  </thead>\n",
       "  <tbody>\n",
       "    <tr>\n",
       "      <th>0</th>\n",
       "      <td>Afghanistan_2016</td>\n",
       "    </tr>\n",
       "    <tr>\n",
       "      <th>1</th>\n",
       "      <td>Afghanistan_2017</td>\n",
       "    </tr>\n",
       "    <tr>\n",
       "      <th>2</th>\n",
       "      <td>Afghanistan_2018</td>\n",
       "    </tr>\n",
       "    <tr>\n",
       "      <th>3</th>\n",
       "      <td>Afghanistan_2019</td>\n",
       "    </tr>\n",
       "    <tr>\n",
       "      <th>4</th>\n",
       "      <td>Afghanistan_2020</td>\n",
       "    </tr>\n",
       "  </tbody>\n",
       "</table>\n",
       "</div>"
      ],
      "text/plain": [
       "       Country Name\n",
       "0  Afghanistan_2016\n",
       "1  Afghanistan_2017\n",
       "2  Afghanistan_2018\n",
       "3  Afghanistan_2019\n",
       "4  Afghanistan_2020"
      ]
     },
     "execution_count": 38,
     "metadata": {},
     "output_type": "execute_result"
    }
   ],
   "source": [
    "test_df.head()"
   ]
  },
  {
   "cell_type": "code",
   "execution_count": 39,
   "id": "01d6ca2c",
   "metadata": {
    "execution": {
     "iopub.execute_input": "2024-03-29T20:07:22.129359Z",
     "iopub.status.busy": "2024-03-29T20:07:22.128970Z",
     "iopub.status.idle": "2024-03-29T20:07:22.136050Z",
     "shell.execute_reply": "2024-03-29T20:07:22.134983Z"
    },
    "papermill": {
     "duration": 0.036832,
     "end_time": "2024-03-29T20:07:22.138357",
     "exception": false,
     "start_time": "2024-03-29T20:07:22.101525",
     "status": "completed"
    },
    "tags": []
   },
   "outputs": [],
   "source": [
    "test_df['year'] = test_df['Country Name'].str[-4: ]"
   ]
  },
  {
   "cell_type": "code",
   "execution_count": 40,
   "id": "a0e626ff",
   "metadata": {
    "execution": {
     "iopub.execute_input": "2024-03-29T20:07:22.191755Z",
     "iopub.status.busy": "2024-03-29T20:07:22.191276Z",
     "iopub.status.idle": "2024-03-29T20:07:22.198381Z",
     "shell.execute_reply": "2024-03-29T20:07:22.197129Z"
    },
    "papermill": {
     "duration": 0.036,
     "end_time": "2024-03-29T20:07:22.200798",
     "exception": false,
     "start_time": "2024-03-29T20:07:22.164798",
     "status": "completed"
    },
    "tags": []
   },
   "outputs": [],
   "source": [
    "test_df['Country Name'] = test_df['Country Name'].str[: -5]"
   ]
  },
  {
   "cell_type": "code",
   "execution_count": 41,
   "id": "7e64ce87",
   "metadata": {
    "execution": {
     "iopub.execute_input": "2024-03-29T20:07:22.253697Z",
     "iopub.status.busy": "2024-03-29T20:07:22.253247Z",
     "iopub.status.idle": "2024-03-29T20:07:22.263870Z",
     "shell.execute_reply": "2024-03-29T20:07:22.262712Z"
    },
    "papermill": {
     "duration": 0.040289,
     "end_time": "2024-03-29T20:07:22.266363",
     "exception": false,
     "start_time": "2024-03-29T20:07:22.226074",
     "status": "completed"
    },
    "tags": []
   },
   "outputs": [
    {
     "data": {
      "text/html": [
       "<div>\n",
       "<style scoped>\n",
       "    .dataframe tbody tr th:only-of-type {\n",
       "        vertical-align: middle;\n",
       "    }\n",
       "\n",
       "    .dataframe tbody tr th {\n",
       "        vertical-align: top;\n",
       "    }\n",
       "\n",
       "    .dataframe thead th {\n",
       "        text-align: right;\n",
       "    }\n",
       "</style>\n",
       "<table border=\"1\" class=\"dataframe\">\n",
       "  <thead>\n",
       "    <tr style=\"text-align: right;\">\n",
       "      <th></th>\n",
       "      <th>Country Name</th>\n",
       "      <th>year</th>\n",
       "    </tr>\n",
       "  </thead>\n",
       "  <tbody>\n",
       "    <tr>\n",
       "      <th>0</th>\n",
       "      <td>Afghanistan</td>\n",
       "      <td>2016</td>\n",
       "    </tr>\n",
       "    <tr>\n",
       "      <th>1</th>\n",
       "      <td>Afghanistan</td>\n",
       "      <td>2017</td>\n",
       "    </tr>\n",
       "    <tr>\n",
       "      <th>2</th>\n",
       "      <td>Afghanistan</td>\n",
       "      <td>2018</td>\n",
       "    </tr>\n",
       "    <tr>\n",
       "      <th>3</th>\n",
       "      <td>Afghanistan</td>\n",
       "      <td>2019</td>\n",
       "    </tr>\n",
       "    <tr>\n",
       "      <th>4</th>\n",
       "      <td>Afghanistan</td>\n",
       "      <td>2020</td>\n",
       "    </tr>\n",
       "  </tbody>\n",
       "</table>\n",
       "</div>"
      ],
      "text/plain": [
       "  Country Name  year\n",
       "0  Afghanistan  2016\n",
       "1  Afghanistan  2017\n",
       "2  Afghanistan  2018\n",
       "3  Afghanistan  2019\n",
       "4  Afghanistan  2020"
      ]
     },
     "execution_count": 41,
     "metadata": {},
     "output_type": "execute_result"
    }
   ],
   "source": [
    "test_df.head()"
   ]
  },
  {
   "cell_type": "code",
   "execution_count": 42,
   "id": "b818a42d",
   "metadata": {
    "execution": {
     "iopub.execute_input": "2024-03-29T20:07:22.319245Z",
     "iopub.status.busy": "2024-03-29T20:07:22.318852Z",
     "iopub.status.idle": "2024-03-29T20:07:22.324293Z",
     "shell.execute_reply": "2024-03-29T20:07:22.323058Z"
    },
    "papermill": {
     "duration": 0.034537,
     "end_time": "2024-03-29T20:07:22.326518",
     "exception": false,
     "start_time": "2024-03-29T20:07:22.291981",
     "status": "completed"
    },
    "tags": []
   },
   "outputs": [],
   "source": [
    "countries = test_df['Country Name']"
   ]
  },
  {
   "cell_type": "code",
   "execution_count": 43,
   "id": "71251cee",
   "metadata": {
    "execution": {
     "iopub.execute_input": "2024-03-29T20:07:22.379215Z",
     "iopub.status.busy": "2024-03-29T20:07:22.378827Z",
     "iopub.status.idle": "2024-03-29T20:07:22.390277Z",
     "shell.execute_reply": "2024-03-29T20:07:22.388988Z"
    },
    "papermill": {
     "duration": 0.040911,
     "end_time": "2024-03-29T20:07:22.393048",
     "exception": false,
     "start_time": "2024-03-29T20:07:22.352137",
     "status": "completed"
    },
    "tags": []
   },
   "outputs": [
    {
     "name": "stdout",
     "output_type": "stream",
     "text": [
      "<class 'pandas.core.frame.DataFrame'>\n",
      "RangeIndex: 1596 entries, 0 to 1595\n",
      "Data columns (total 2 columns):\n",
      " #   Column        Non-Null Count  Dtype \n",
      "---  ------        --------------  ----- \n",
      " 0   Country Name  1596 non-null   object\n",
      " 1   year          1596 non-null   object\n",
      "dtypes: object(2)\n",
      "memory usage: 25.1+ KB\n"
     ]
    }
   ],
   "source": [
    "test_df.info()"
   ]
  },
  {
   "cell_type": "code",
   "execution_count": 44,
   "id": "4fa30d9b",
   "metadata": {
    "execution": {
     "iopub.execute_input": "2024-03-29T20:07:22.446294Z",
     "iopub.status.busy": "2024-03-29T20:07:22.445682Z",
     "iopub.status.idle": "2024-03-29T20:07:22.453412Z",
     "shell.execute_reply": "2024-03-29T20:07:22.452146Z"
    },
    "papermill": {
     "duration": 0.037503,
     "end_time": "2024-03-29T20:07:22.456067",
     "exception": false,
     "start_time": "2024-03-29T20:07:22.418564",
     "status": "completed"
    },
    "tags": []
   },
   "outputs": [],
   "source": [
    "test_df['year'] = pd.to_numeric(test_df['year'])"
   ]
  },
  {
   "cell_type": "code",
   "execution_count": 45,
   "id": "10005b9c",
   "metadata": {
    "execution": {
     "iopub.execute_input": "2024-03-29T20:07:22.509222Z",
     "iopub.status.busy": "2024-03-29T20:07:22.508799Z",
     "iopub.status.idle": "2024-03-29T20:07:22.520526Z",
     "shell.execute_reply": "2024-03-29T20:07:22.519275Z"
    },
    "papermill": {
     "duration": 0.041556,
     "end_time": "2024-03-29T20:07:22.523169",
     "exception": false,
     "start_time": "2024-03-29T20:07:22.481613",
     "status": "completed"
    },
    "tags": []
   },
   "outputs": [
    {
     "name": "stdout",
     "output_type": "stream",
     "text": [
      "<class 'pandas.core.frame.DataFrame'>\n",
      "RangeIndex: 1596 entries, 0 to 1595\n",
      "Data columns (total 2 columns):\n",
      " #   Column        Non-Null Count  Dtype \n",
      "---  ------        --------------  ----- \n",
      " 0   Country Name  1596 non-null   object\n",
      " 1   year          1596 non-null   int64 \n",
      "dtypes: int64(1), object(1)\n",
      "memory usage: 25.1+ KB\n"
     ]
    }
   ],
   "source": [
    "test_df.info()"
   ]
  },
  {
   "cell_type": "code",
   "execution_count": 46,
   "id": "8096e7ef",
   "metadata": {
    "execution": {
     "iopub.execute_input": "2024-03-29T20:07:22.577615Z",
     "iopub.status.busy": "2024-03-29T20:07:22.577228Z",
     "iopub.status.idle": "2024-03-29T20:07:22.584513Z",
     "shell.execute_reply": "2024-03-29T20:07:22.583376Z"
    },
    "papermill": {
     "duration": 0.036995,
     "end_time": "2024-03-29T20:07:22.586835",
     "exception": false,
     "start_time": "2024-03-29T20:07:22.549840",
     "status": "completed"
    },
    "tags": []
   },
   "outputs": [],
   "source": [
    "from sklearn import preprocessing\n",
    "label_encoder = preprocessing.LabelEncoder()\n",
    "\n",
    "test_df['Country Name'] = label_encoder.fit_transform(test_df['Country Name'])"
   ]
  },
  {
   "cell_type": "code",
   "execution_count": 47,
   "id": "c5dd9484",
   "metadata": {
    "execution": {
     "iopub.execute_input": "2024-03-29T20:07:22.640070Z",
     "iopub.status.busy": "2024-03-29T20:07:22.639623Z",
     "iopub.status.idle": "2024-03-29T20:07:22.649615Z",
     "shell.execute_reply": "2024-03-29T20:07:22.648538Z"
    },
    "papermill": {
     "duration": 0.039273,
     "end_time": "2024-03-29T20:07:22.651930",
     "exception": false,
     "start_time": "2024-03-29T20:07:22.612657",
     "status": "completed"
    },
    "tags": []
   },
   "outputs": [
    {
     "data": {
      "text/html": [
       "<div>\n",
       "<style scoped>\n",
       "    .dataframe tbody tr th:only-of-type {\n",
       "        vertical-align: middle;\n",
       "    }\n",
       "\n",
       "    .dataframe tbody tr th {\n",
       "        vertical-align: top;\n",
       "    }\n",
       "\n",
       "    .dataframe thead th {\n",
       "        text-align: right;\n",
       "    }\n",
       "</style>\n",
       "<table border=\"1\" class=\"dataframe\">\n",
       "  <thead>\n",
       "    <tr style=\"text-align: right;\">\n",
       "      <th></th>\n",
       "      <th>Country Name</th>\n",
       "      <th>year</th>\n",
       "    </tr>\n",
       "  </thead>\n",
       "  <tbody>\n",
       "    <tr>\n",
       "      <th>0</th>\n",
       "      <td>0</td>\n",
       "      <td>2016</td>\n",
       "    </tr>\n",
       "    <tr>\n",
       "      <th>1</th>\n",
       "      <td>0</td>\n",
       "      <td>2017</td>\n",
       "    </tr>\n",
       "    <tr>\n",
       "      <th>2</th>\n",
       "      <td>0</td>\n",
       "      <td>2018</td>\n",
       "    </tr>\n",
       "    <tr>\n",
       "      <th>3</th>\n",
       "      <td>0</td>\n",
       "      <td>2019</td>\n",
       "    </tr>\n",
       "    <tr>\n",
       "      <th>4</th>\n",
       "      <td>0</td>\n",
       "      <td>2020</td>\n",
       "    </tr>\n",
       "  </tbody>\n",
       "</table>\n",
       "</div>"
      ],
      "text/plain": [
       "   Country Name  year\n",
       "0             0  2016\n",
       "1             0  2017\n",
       "2             0  2018\n",
       "3             0  2019\n",
       "4             0  2020"
      ]
     },
     "execution_count": 47,
     "metadata": {},
     "output_type": "execute_result"
    }
   ],
   "source": [
    "test_df.head()"
   ]
  },
  {
   "cell_type": "code",
   "execution_count": 48,
   "id": "c31a3a4b",
   "metadata": {
    "execution": {
     "iopub.execute_input": "2024-03-29T20:07:22.705253Z",
     "iopub.status.busy": "2024-03-29T20:07:22.704805Z",
     "iopub.status.idle": "2024-03-29T20:07:22.712108Z",
     "shell.execute_reply": "2024-03-29T20:07:22.710953Z"
    },
    "papermill": {
     "duration": 0.037196,
     "end_time": "2024-03-29T20:07:22.714626",
     "exception": false,
     "start_time": "2024-03-29T20:07:22.677430",
     "status": "completed"
    },
    "tags": []
   },
   "outputs": [],
   "source": [
    "predicted_values = model.predict(test_df)"
   ]
  },
  {
   "cell_type": "code",
   "execution_count": 49,
   "id": "a2f1138d",
   "metadata": {
    "execution": {
     "iopub.execute_input": "2024-03-29T20:07:22.770375Z",
     "iopub.status.busy": "2024-03-29T20:07:22.769977Z",
     "iopub.status.idle": "2024-03-29T20:07:22.775695Z",
     "shell.execute_reply": "2024-03-29T20:07:22.774946Z"
    },
    "papermill": {
     "duration": 0.036773,
     "end_time": "2024-03-29T20:07:22.778103",
     "exception": false,
     "start_time": "2024-03-29T20:07:22.741330",
     "status": "completed"
    },
    "tags": []
   },
   "outputs": [
    {
     "data": {
      "text/plain": [
       "array([4.1061207 , 4.11019639, 4.11427209, ..., 4.48196577, 4.48604146,\n",
       "       4.52679841])"
      ]
     },
     "execution_count": 49,
     "metadata": {},
     "output_type": "execute_result"
    }
   ],
   "source": [
    "predicted_values"
   ]
  },
  {
   "cell_type": "code",
   "execution_count": 50,
   "id": "58c3db89",
   "metadata": {
    "execution": {
     "iopub.execute_input": "2024-03-29T20:07:22.832598Z",
     "iopub.status.busy": "2024-03-29T20:07:22.831988Z",
     "iopub.status.idle": "2024-03-29T20:07:22.836540Z",
     "shell.execute_reply": "2024-03-29T20:07:22.835781Z"
    },
    "papermill": {
     "duration": 0.034236,
     "end_time": "2024-03-29T20:07:22.838966",
     "exception": false,
     "start_time": "2024-03-29T20:07:22.804730",
     "status": "completed"
    },
    "tags": []
   },
   "outputs": [],
   "source": [
    "test_df['CO2 Emissions'] = predicted_values"
   ]
  },
  {
   "cell_type": "code",
   "execution_count": 51,
   "id": "9c16a1f9",
   "metadata": {
    "execution": {
     "iopub.execute_input": "2024-03-29T20:07:22.893538Z",
     "iopub.status.busy": "2024-03-29T20:07:22.893135Z",
     "iopub.status.idle": "2024-03-29T20:07:22.904291Z",
     "shell.execute_reply": "2024-03-29T20:07:22.903048Z"
    },
    "papermill": {
     "duration": 0.041897,
     "end_time": "2024-03-29T20:07:22.906929",
     "exception": false,
     "start_time": "2024-03-29T20:07:22.865032",
     "status": "completed"
    },
    "tags": []
   },
   "outputs": [
    {
     "data": {
      "text/html": [
       "<div>\n",
       "<style scoped>\n",
       "    .dataframe tbody tr th:only-of-type {\n",
       "        vertical-align: middle;\n",
       "    }\n",
       "\n",
       "    .dataframe tbody tr th {\n",
       "        vertical-align: top;\n",
       "    }\n",
       "\n",
       "    .dataframe thead th {\n",
       "        text-align: right;\n",
       "    }\n",
       "</style>\n",
       "<table border=\"1\" class=\"dataframe\">\n",
       "  <thead>\n",
       "    <tr style=\"text-align: right;\">\n",
       "      <th></th>\n",
       "      <th>Country Name</th>\n",
       "      <th>year</th>\n",
       "      <th>CO2 Emissions</th>\n",
       "    </tr>\n",
       "  </thead>\n",
       "  <tbody>\n",
       "    <tr>\n",
       "      <th>0</th>\n",
       "      <td>0</td>\n",
       "      <td>2016</td>\n",
       "      <td>4.106121</td>\n",
       "    </tr>\n",
       "    <tr>\n",
       "      <th>1</th>\n",
       "      <td>0</td>\n",
       "      <td>2017</td>\n",
       "      <td>4.110196</td>\n",
       "    </tr>\n",
       "    <tr>\n",
       "      <th>2</th>\n",
       "      <td>0</td>\n",
       "      <td>2018</td>\n",
       "      <td>4.114272</td>\n",
       "    </tr>\n",
       "    <tr>\n",
       "      <th>3</th>\n",
       "      <td>0</td>\n",
       "      <td>2019</td>\n",
       "      <td>4.118348</td>\n",
       "    </tr>\n",
       "    <tr>\n",
       "      <th>4</th>\n",
       "      <td>0</td>\n",
       "      <td>2020</td>\n",
       "      <td>4.122423</td>\n",
       "    </tr>\n",
       "  </tbody>\n",
       "</table>\n",
       "</div>"
      ],
      "text/plain": [
       "   Country Name  year  CO2 Emissions\n",
       "0             0  2016       4.106121\n",
       "1             0  2017       4.110196\n",
       "2             0  2018       4.114272\n",
       "3             0  2019       4.118348\n",
       "4             0  2020       4.122423"
      ]
     },
     "execution_count": 51,
     "metadata": {},
     "output_type": "execute_result"
    }
   ],
   "source": [
    "test_df.head()"
   ]
  },
  {
   "cell_type": "code",
   "execution_count": 52,
   "id": "e1239040",
   "metadata": {
    "execution": {
     "iopub.execute_input": "2024-03-29T20:07:22.961989Z",
     "iopub.status.busy": "2024-03-29T20:07:22.961557Z",
     "iopub.status.idle": "2024-03-29T20:07:22.972783Z",
     "shell.execute_reply": "2024-03-29T20:07:22.971690Z"
    },
    "papermill": {
     "duration": 0.041759,
     "end_time": "2024-03-29T20:07:22.975292",
     "exception": false,
     "start_time": "2024-03-29T20:07:22.933533",
     "status": "completed"
    },
    "tags": []
   },
   "outputs": [
    {
     "data": {
      "text/html": [
       "<div>\n",
       "<style scoped>\n",
       "    .dataframe tbody tr th:only-of-type {\n",
       "        vertical-align: middle;\n",
       "    }\n",
       "\n",
       "    .dataframe tbody tr th {\n",
       "        vertical-align: top;\n",
       "    }\n",
       "\n",
       "    .dataframe thead th {\n",
       "        text-align: right;\n",
       "    }\n",
       "</style>\n",
       "<table border=\"1\" class=\"dataframe\">\n",
       "  <thead>\n",
       "    <tr style=\"text-align: right;\">\n",
       "      <th></th>\n",
       "      <th>Country Name</th>\n",
       "      <th>year</th>\n",
       "      <th>CO2 Emissions</th>\n",
       "    </tr>\n",
       "  </thead>\n",
       "  <tbody>\n",
       "    <tr>\n",
       "      <th>0</th>\n",
       "      <td>0</td>\n",
       "      <td>2016</td>\n",
       "      <td>4.106121</td>\n",
       "    </tr>\n",
       "    <tr>\n",
       "      <th>1</th>\n",
       "      <td>0</td>\n",
       "      <td>2017</td>\n",
       "      <td>4.110196</td>\n",
       "    </tr>\n",
       "    <tr>\n",
       "      <th>2</th>\n",
       "      <td>0</td>\n",
       "      <td>2018</td>\n",
       "      <td>4.114272</td>\n",
       "    </tr>\n",
       "    <tr>\n",
       "      <th>3</th>\n",
       "      <td>0</td>\n",
       "      <td>2019</td>\n",
       "      <td>4.118348</td>\n",
       "    </tr>\n",
       "    <tr>\n",
       "      <th>4</th>\n",
       "      <td>0</td>\n",
       "      <td>2020</td>\n",
       "      <td>4.122423</td>\n",
       "    </tr>\n",
       "  </tbody>\n",
       "</table>\n",
       "</div>"
      ],
      "text/plain": [
       "   Country Name  year  CO2 Emissions\n",
       "0             0  2016       4.106121\n",
       "1             0  2017       4.110196\n",
       "2             0  2018       4.114272\n",
       "3             0  2019       4.118348\n",
       "4             0  2020       4.122423"
      ]
     },
     "execution_count": 52,
     "metadata": {},
     "output_type": "execute_result"
    }
   ],
   "source": [
    "test_df.head()"
   ]
  },
  {
   "cell_type": "code",
   "execution_count": 53,
   "id": "cd30bee6",
   "metadata": {
    "execution": {
     "iopub.execute_input": "2024-03-29T20:07:23.030230Z",
     "iopub.status.busy": "2024-03-29T20:07:23.029812Z",
     "iopub.status.idle": "2024-03-29T20:07:23.035282Z",
     "shell.execute_reply": "2024-03-29T20:07:23.034439Z"
    },
    "papermill": {
     "duration": 0.035688,
     "end_time": "2024-03-29T20:07:23.037523",
     "exception": false,
     "start_time": "2024-03-29T20:07:23.001835",
     "status": "completed"
    },
    "tags": []
   },
   "outputs": [],
   "source": [
    "test_df['Country Name'] = countries"
   ]
  },
  {
   "cell_type": "code",
   "execution_count": 54,
   "id": "6e9ba5b2",
   "metadata": {
    "execution": {
     "iopub.execute_input": "2024-03-29T20:07:23.092739Z",
     "iopub.status.busy": "2024-03-29T20:07:23.092309Z",
     "iopub.status.idle": "2024-03-29T20:07:23.107250Z",
     "shell.execute_reply": "2024-03-29T20:07:23.106143Z"
    },
    "papermill": {
     "duration": 0.045469,
     "end_time": "2024-03-29T20:07:23.109529",
     "exception": false,
     "start_time": "2024-03-29T20:07:23.064060",
     "status": "completed"
    },
    "tags": []
   },
   "outputs": [
    {
     "data": {
      "text/html": [
       "<div>\n",
       "<style scoped>\n",
       "    .dataframe tbody tr th:only-of-type {\n",
       "        vertical-align: middle;\n",
       "    }\n",
       "\n",
       "    .dataframe tbody tr th {\n",
       "        vertical-align: top;\n",
       "    }\n",
       "\n",
       "    .dataframe thead th {\n",
       "        text-align: right;\n",
       "    }\n",
       "</style>\n",
       "<table border=\"1\" class=\"dataframe\">\n",
       "  <thead>\n",
       "    <tr style=\"text-align: right;\">\n",
       "      <th></th>\n",
       "      <th>Country Name</th>\n",
       "      <th>year</th>\n",
       "      <th>CO2 Emissions</th>\n",
       "    </tr>\n",
       "  </thead>\n",
       "  <tbody>\n",
       "    <tr>\n",
       "      <th>0</th>\n",
       "      <td>Afghanistan</td>\n",
       "      <td>2016</td>\n",
       "      <td>4.106121</td>\n",
       "    </tr>\n",
       "    <tr>\n",
       "      <th>1</th>\n",
       "      <td>Afghanistan</td>\n",
       "      <td>2017</td>\n",
       "      <td>4.110196</td>\n",
       "    </tr>\n",
       "    <tr>\n",
       "      <th>2</th>\n",
       "      <td>Afghanistan</td>\n",
       "      <td>2018</td>\n",
       "      <td>4.114272</td>\n",
       "    </tr>\n",
       "    <tr>\n",
       "      <th>3</th>\n",
       "      <td>Afghanistan</td>\n",
       "      <td>2019</td>\n",
       "      <td>4.118348</td>\n",
       "    </tr>\n",
       "    <tr>\n",
       "      <th>4</th>\n",
       "      <td>Afghanistan</td>\n",
       "      <td>2020</td>\n",
       "      <td>4.122423</td>\n",
       "    </tr>\n",
       "    <tr>\n",
       "      <th>...</th>\n",
       "      <td>...</td>\n",
       "      <td>...</td>\n",
       "      <td>...</td>\n",
       "    </tr>\n",
       "    <tr>\n",
       "      <th>1591</th>\n",
       "      <td>World</td>\n",
       "      <td>2017</td>\n",
       "      <td>4.473814</td>\n",
       "    </tr>\n",
       "    <tr>\n",
       "      <th>1592</th>\n",
       "      <td>World</td>\n",
       "      <td>2018</td>\n",
       "      <td>4.477890</td>\n",
       "    </tr>\n",
       "    <tr>\n",
       "      <th>1593</th>\n",
       "      <td>World</td>\n",
       "      <td>2019</td>\n",
       "      <td>4.481966</td>\n",
       "    </tr>\n",
       "    <tr>\n",
       "      <th>1594</th>\n",
       "      <td>World</td>\n",
       "      <td>2020</td>\n",
       "      <td>4.486041</td>\n",
       "    </tr>\n",
       "    <tr>\n",
       "      <th>1595</th>\n",
       "      <td>World</td>\n",
       "      <td>2030</td>\n",
       "      <td>4.526798</td>\n",
       "    </tr>\n",
       "  </tbody>\n",
       "</table>\n",
       "<p>1596 rows × 3 columns</p>\n",
       "</div>"
      ],
      "text/plain": [
       "     Country Name  year  CO2 Emissions\n",
       "0     Afghanistan  2016       4.106121\n",
       "1     Afghanistan  2017       4.110196\n",
       "2     Afghanistan  2018       4.114272\n",
       "3     Afghanistan  2019       4.118348\n",
       "4     Afghanistan  2020       4.122423\n",
       "...           ...   ...            ...\n",
       "1591        World  2017       4.473814\n",
       "1592        World  2018       4.477890\n",
       "1593        World  2019       4.481966\n",
       "1594        World  2020       4.486041\n",
       "1595        World  2030       4.526798\n",
       "\n",
       "[1596 rows x 3 columns]"
      ]
     },
     "execution_count": 54,
     "metadata": {},
     "output_type": "execute_result"
    }
   ],
   "source": [
    "test_df"
   ]
  },
  {
   "cell_type": "code",
   "execution_count": 55,
   "id": "b4488f35",
   "metadata": {
    "execution": {
     "iopub.execute_input": "2024-03-29T20:07:23.165495Z",
     "iopub.status.busy": "2024-03-29T20:07:23.165132Z",
     "iopub.status.idle": "2024-03-29T20:07:23.175262Z",
     "shell.execute_reply": "2024-03-29T20:07:23.174306Z"
    },
    "papermill": {
     "duration": 0.041637,
     "end_time": "2024-03-29T20:07:23.177865",
     "exception": false,
     "start_time": "2024-03-29T20:07:23.136228",
     "status": "completed"
    },
    "tags": []
   },
   "outputs": [],
   "source": [
    "final_df = test_df.pivot(index = 'Country Name', columns = 'year')"
   ]
  },
  {
   "cell_type": "code",
   "execution_count": 56,
   "id": "435fd4ec",
   "metadata": {
    "execution": {
     "iopub.execute_input": "2024-03-29T20:07:23.233574Z",
     "iopub.status.busy": "2024-03-29T20:07:23.233180Z",
     "iopub.status.idle": "2024-03-29T20:07:23.249157Z",
     "shell.execute_reply": "2024-03-29T20:07:23.248077Z"
    },
    "papermill": {
     "duration": 0.047029,
     "end_time": "2024-03-29T20:07:23.251636",
     "exception": false,
     "start_time": "2024-03-29T20:07:23.204607",
     "status": "completed"
    },
    "tags": []
   },
   "outputs": [
    {
     "data": {
      "text/html": [
       "<div>\n",
       "<style scoped>\n",
       "    .dataframe tbody tr th:only-of-type {\n",
       "        vertical-align: middle;\n",
       "    }\n",
       "\n",
       "    .dataframe tbody tr th {\n",
       "        vertical-align: top;\n",
       "    }\n",
       "\n",
       "    .dataframe thead tr th {\n",
       "        text-align: left;\n",
       "    }\n",
       "\n",
       "    .dataframe thead tr:last-of-type th {\n",
       "        text-align: right;\n",
       "    }\n",
       "</style>\n",
       "<table border=\"1\" class=\"dataframe\">\n",
       "  <thead>\n",
       "    <tr>\n",
       "      <th></th>\n",
       "      <th colspan=\"6\" halign=\"left\">CO2 Emissions</th>\n",
       "    </tr>\n",
       "    <tr>\n",
       "      <th>year</th>\n",
       "      <th>2016</th>\n",
       "      <th>2017</th>\n",
       "      <th>2018</th>\n",
       "      <th>2019</th>\n",
       "      <th>2020</th>\n",
       "      <th>2030</th>\n",
       "    </tr>\n",
       "    <tr>\n",
       "      <th>Country Name</th>\n",
       "      <th></th>\n",
       "      <th></th>\n",
       "      <th></th>\n",
       "      <th></th>\n",
       "      <th></th>\n",
       "      <th></th>\n",
       "    </tr>\n",
       "  </thead>\n",
       "  <tbody>\n",
       "    <tr>\n",
       "      <th>Afghanistan</th>\n",
       "      <td>4.106121</td>\n",
       "      <td>4.110196</td>\n",
       "      <td>4.114272</td>\n",
       "      <td>4.118348</td>\n",
       "      <td>4.122423</td>\n",
       "      <td>4.163180</td>\n",
       "    </tr>\n",
       "    <tr>\n",
       "      <th>Africa Eastern and Southern</th>\n",
       "      <td>4.107509</td>\n",
       "      <td>4.111584</td>\n",
       "      <td>4.115660</td>\n",
       "      <td>4.119736</td>\n",
       "      <td>4.123811</td>\n",
       "      <td>4.164568</td>\n",
       "    </tr>\n",
       "    <tr>\n",
       "      <th>Africa Western and Central</th>\n",
       "      <td>4.108896</td>\n",
       "      <td>4.112972</td>\n",
       "      <td>4.117048</td>\n",
       "      <td>4.121123</td>\n",
       "      <td>4.125199</td>\n",
       "      <td>4.165956</td>\n",
       "    </tr>\n",
       "    <tr>\n",
       "      <th>Albania</th>\n",
       "      <td>4.110284</td>\n",
       "      <td>4.114360</td>\n",
       "      <td>4.118436</td>\n",
       "      <td>4.122511</td>\n",
       "      <td>4.126587</td>\n",
       "      <td>4.167344</td>\n",
       "    </tr>\n",
       "    <tr>\n",
       "      <th>Algeria</th>\n",
       "      <td>4.111672</td>\n",
       "      <td>4.115748</td>\n",
       "      <td>4.119824</td>\n",
       "      <td>4.123899</td>\n",
       "      <td>4.127975</td>\n",
       "      <td>4.168732</td>\n",
       "    </tr>\n",
       "  </tbody>\n",
       "</table>\n",
       "</div>"
      ],
      "text/plain": [
       "                            CO2 Emissions                                \\\n",
       "year                                 2016      2017      2018      2019   \n",
       "Country Name                                                              \n",
       "Afghanistan                      4.106121  4.110196  4.114272  4.118348   \n",
       "Africa Eastern and Southern      4.107509  4.111584  4.115660  4.119736   \n",
       "Africa Western and Central       4.108896  4.112972  4.117048  4.121123   \n",
       "Albania                          4.110284  4.114360  4.118436  4.122511   \n",
       "Algeria                          4.111672  4.115748  4.119824  4.123899   \n",
       "\n",
       "                                                 \n",
       "year                             2020      2030  \n",
       "Country Name                                     \n",
       "Afghanistan                  4.122423  4.163180  \n",
       "Africa Eastern and Southern  4.123811  4.164568  \n",
       "Africa Western and Central   4.125199  4.165956  \n",
       "Albania                      4.126587  4.167344  \n",
       "Algeria                      4.127975  4.168732  "
      ]
     },
     "execution_count": 56,
     "metadata": {},
     "output_type": "execute_result"
    }
   ],
   "source": [
    "final_df.head()"
   ]
  },
  {
   "cell_type": "code",
   "execution_count": 57,
   "id": "4b3efc69",
   "metadata": {
    "execution": {
     "iopub.execute_input": "2024-03-29T20:07:23.307530Z",
     "iopub.status.busy": "2024-03-29T20:07:23.307135Z",
     "iopub.status.idle": "2024-03-29T20:07:23.314719Z",
     "shell.execute_reply": "2024-03-29T20:07:23.313555Z"
    },
    "papermill": {
     "duration": 0.038525,
     "end_time": "2024-03-29T20:07:23.317127",
     "exception": false,
     "start_time": "2024-03-29T20:07:23.278602",
     "status": "completed"
    },
    "tags": []
   },
   "outputs": [
    {
     "data": {
      "text/plain": [
       "MultiIndex([('CO2 Emissions', 2016),\n",
       "            ('CO2 Emissions', 2017),\n",
       "            ('CO2 Emissions', 2018),\n",
       "            ('CO2 Emissions', 2019),\n",
       "            ('CO2 Emissions', 2020),\n",
       "            ('CO2 Emissions', 2030)],\n",
       "           names=[None, 'year'])"
      ]
     },
     "execution_count": 57,
     "metadata": {},
     "output_type": "execute_result"
    }
   ],
   "source": [
    "final_df.columns"
   ]
  },
  {
   "cell_type": "code",
   "execution_count": 58,
   "id": "36bef601",
   "metadata": {
    "execution": {
     "iopub.execute_input": "2024-03-29T20:07:23.375447Z",
     "iopub.status.busy": "2024-03-29T20:07:23.374685Z",
     "iopub.status.idle": "2024-03-29T20:07:23.381949Z",
     "shell.execute_reply": "2024-03-29T20:07:23.380820Z"
    },
    "papermill": {
     "duration": 0.039627,
     "end_time": "2024-03-29T20:07:23.384472",
     "exception": false,
     "start_time": "2024-03-29T20:07:23.344845",
     "status": "completed"
    },
    "tags": []
   },
   "outputs": [
    {
     "data": {
      "text/plain": [
       "numpy.int64"
      ]
     },
     "execution_count": 58,
     "metadata": {},
     "output_type": "execute_result"
    }
   ],
   "source": [
    "type(final_df.columns[0][1])"
   ]
  },
  {
   "cell_type": "code",
   "execution_count": 59,
   "id": "c618a239",
   "metadata": {
    "execution": {
     "iopub.execute_input": "2024-03-29T20:07:23.441940Z",
     "iopub.status.busy": "2024-03-29T20:07:23.441518Z",
     "iopub.status.idle": "2024-03-29T20:07:23.446652Z",
     "shell.execute_reply": "2024-03-29T20:07:23.445506Z"
    },
    "papermill": {
     "duration": 0.036797,
     "end_time": "2024-03-29T20:07:23.449039",
     "exception": false,
     "start_time": "2024-03-29T20:07:23.412242",
     "status": "completed"
    },
    "tags": []
   },
   "outputs": [],
   "source": [
    "#[str(col[1] + ) for col in final_df.columns]\n",
    "#[  f\"{col[1]} [YR{col[1]}]\"     for col in final_df.columns ]"
   ]
  },
  {
   "cell_type": "code",
   "execution_count": 60,
   "id": "d0c0c875",
   "metadata": {
    "execution": {
     "iopub.execute_input": "2024-03-29T20:07:23.505619Z",
     "iopub.status.busy": "2024-03-29T20:07:23.505253Z",
     "iopub.status.idle": "2024-03-29T20:07:23.510355Z",
     "shell.execute_reply": "2024-03-29T20:07:23.509235Z"
    },
    "papermill": {
     "duration": 0.03604,
     "end_time": "2024-03-29T20:07:23.512463",
     "exception": false,
     "start_time": "2024-03-29T20:07:23.476423",
     "status": "completed"
    },
    "tags": []
   },
   "outputs": [],
   "source": [
    "final_df.columns = [ f\"{col[1]} [YR{col[1]}]\"  for col in final_df.columns ]"
   ]
  },
  {
   "cell_type": "code",
   "execution_count": 61,
   "id": "18253968",
   "metadata": {
    "execution": {
     "iopub.execute_input": "2024-03-29T20:07:23.570308Z",
     "iopub.status.busy": "2024-03-29T20:07:23.569633Z",
     "iopub.status.idle": "2024-03-29T20:07:23.583551Z",
     "shell.execute_reply": "2024-03-29T20:07:23.582442Z"
    },
    "papermill": {
     "duration": 0.045419,
     "end_time": "2024-03-29T20:07:23.585871",
     "exception": false,
     "start_time": "2024-03-29T20:07:23.540452",
     "status": "completed"
    },
    "tags": []
   },
   "outputs": [
    {
     "data": {
      "text/html": [
       "<div>\n",
       "<style scoped>\n",
       "    .dataframe tbody tr th:only-of-type {\n",
       "        vertical-align: middle;\n",
       "    }\n",
       "\n",
       "    .dataframe tbody tr th {\n",
       "        vertical-align: top;\n",
       "    }\n",
       "\n",
       "    .dataframe thead th {\n",
       "        text-align: right;\n",
       "    }\n",
       "</style>\n",
       "<table border=\"1\" class=\"dataframe\">\n",
       "  <thead>\n",
       "    <tr style=\"text-align: right;\">\n",
       "      <th></th>\n",
       "      <th>2016 [YR2016]</th>\n",
       "      <th>2017 [YR2017]</th>\n",
       "      <th>2018 [YR2018]</th>\n",
       "      <th>2019 [YR2019]</th>\n",
       "      <th>2020 [YR2020]</th>\n",
       "      <th>2030 [YR2030]</th>\n",
       "    </tr>\n",
       "    <tr>\n",
       "      <th>Country Name</th>\n",
       "      <th></th>\n",
       "      <th></th>\n",
       "      <th></th>\n",
       "      <th></th>\n",
       "      <th></th>\n",
       "      <th></th>\n",
       "    </tr>\n",
       "  </thead>\n",
       "  <tbody>\n",
       "    <tr>\n",
       "      <th>Afghanistan</th>\n",
       "      <td>4.106121</td>\n",
       "      <td>4.110196</td>\n",
       "      <td>4.114272</td>\n",
       "      <td>4.118348</td>\n",
       "      <td>4.122423</td>\n",
       "      <td>4.163180</td>\n",
       "    </tr>\n",
       "    <tr>\n",
       "      <th>Africa Eastern and Southern</th>\n",
       "      <td>4.107509</td>\n",
       "      <td>4.111584</td>\n",
       "      <td>4.115660</td>\n",
       "      <td>4.119736</td>\n",
       "      <td>4.123811</td>\n",
       "      <td>4.164568</td>\n",
       "    </tr>\n",
       "    <tr>\n",
       "      <th>Africa Western and Central</th>\n",
       "      <td>4.108896</td>\n",
       "      <td>4.112972</td>\n",
       "      <td>4.117048</td>\n",
       "      <td>4.121123</td>\n",
       "      <td>4.125199</td>\n",
       "      <td>4.165956</td>\n",
       "    </tr>\n",
       "    <tr>\n",
       "      <th>Albania</th>\n",
       "      <td>4.110284</td>\n",
       "      <td>4.114360</td>\n",
       "      <td>4.118436</td>\n",
       "      <td>4.122511</td>\n",
       "      <td>4.126587</td>\n",
       "      <td>4.167344</td>\n",
       "    </tr>\n",
       "    <tr>\n",
       "      <th>Algeria</th>\n",
       "      <td>4.111672</td>\n",
       "      <td>4.115748</td>\n",
       "      <td>4.119824</td>\n",
       "      <td>4.123899</td>\n",
       "      <td>4.127975</td>\n",
       "      <td>4.168732</td>\n",
       "    </tr>\n",
       "  </tbody>\n",
       "</table>\n",
       "</div>"
      ],
      "text/plain": [
       "                             2016 [YR2016]  2017 [YR2017]  2018 [YR2018]  \\\n",
       "Country Name                                                               \n",
       "Afghanistan                       4.106121       4.110196       4.114272   \n",
       "Africa Eastern and Southern       4.107509       4.111584       4.115660   \n",
       "Africa Western and Central        4.108896       4.112972       4.117048   \n",
       "Albania                           4.110284       4.114360       4.118436   \n",
       "Algeria                           4.111672       4.115748       4.119824   \n",
       "\n",
       "                             2019 [YR2019]  2020 [YR2020]  2030 [YR2030]  \n",
       "Country Name                                                              \n",
       "Afghanistan                       4.118348       4.122423       4.163180  \n",
       "Africa Eastern and Southern       4.119736       4.123811       4.164568  \n",
       "Africa Western and Central        4.121123       4.125199       4.165956  \n",
       "Albania                           4.122511       4.126587       4.167344  \n",
       "Algeria                           4.123899       4.127975       4.168732  "
      ]
     },
     "execution_count": 61,
     "metadata": {},
     "output_type": "execute_result"
    }
   ],
   "source": [
    "final_df.head()"
   ]
  },
  {
   "cell_type": "code",
   "execution_count": 62,
   "id": "828c68b0",
   "metadata": {
    "execution": {
     "iopub.execute_input": "2024-03-29T20:07:23.644621Z",
     "iopub.status.busy": "2024-03-29T20:07:23.643975Z",
     "iopub.status.idle": "2024-03-29T20:07:23.649498Z",
     "shell.execute_reply": "2024-03-29T20:07:23.648726Z"
    },
    "papermill": {
     "duration": 0.037517,
     "end_time": "2024-03-29T20:07:23.651695",
     "exception": false,
     "start_time": "2024-03-29T20:07:23.614178",
     "status": "completed"
    },
    "tags": []
   },
   "outputs": [],
   "source": [
    "final_df = final_df.reset_index()"
   ]
  },
  {
   "cell_type": "code",
   "execution_count": 63,
   "id": "695106c1",
   "metadata": {
    "execution": {
     "iopub.execute_input": "2024-03-29T20:07:23.709370Z",
     "iopub.status.busy": "2024-03-29T20:07:23.708644Z",
     "iopub.status.idle": "2024-03-29T20:07:23.725601Z",
     "shell.execute_reply": "2024-03-29T20:07:23.724409Z"
    },
    "papermill": {
     "duration": 0.04852,
     "end_time": "2024-03-29T20:07:23.728015",
     "exception": false,
     "start_time": "2024-03-29T20:07:23.679495",
     "status": "completed"
    },
    "tags": []
   },
   "outputs": [
    {
     "data": {
      "text/html": [
       "<div>\n",
       "<style scoped>\n",
       "    .dataframe tbody tr th:only-of-type {\n",
       "        vertical-align: middle;\n",
       "    }\n",
       "\n",
       "    .dataframe tbody tr th {\n",
       "        vertical-align: top;\n",
       "    }\n",
       "\n",
       "    .dataframe thead th {\n",
       "        text-align: right;\n",
       "    }\n",
       "</style>\n",
       "<table border=\"1\" class=\"dataframe\">\n",
       "  <thead>\n",
       "    <tr style=\"text-align: right;\">\n",
       "      <th></th>\n",
       "      <th>Country Name</th>\n",
       "      <th>2016 [YR2016]</th>\n",
       "      <th>2017 [YR2017]</th>\n",
       "      <th>2018 [YR2018]</th>\n",
       "      <th>2019 [YR2019]</th>\n",
       "      <th>2020 [YR2020]</th>\n",
       "      <th>2030 [YR2030]</th>\n",
       "    </tr>\n",
       "  </thead>\n",
       "  <tbody>\n",
       "    <tr>\n",
       "      <th>0</th>\n",
       "      <td>Afghanistan</td>\n",
       "      <td>4.106121</td>\n",
       "      <td>4.110196</td>\n",
       "      <td>4.114272</td>\n",
       "      <td>4.118348</td>\n",
       "      <td>4.122423</td>\n",
       "      <td>4.163180</td>\n",
       "    </tr>\n",
       "    <tr>\n",
       "      <th>1</th>\n",
       "      <td>Africa Eastern and Southern</td>\n",
       "      <td>4.107509</td>\n",
       "      <td>4.111584</td>\n",
       "      <td>4.115660</td>\n",
       "      <td>4.119736</td>\n",
       "      <td>4.123811</td>\n",
       "      <td>4.164568</td>\n",
       "    </tr>\n",
       "    <tr>\n",
       "      <th>2</th>\n",
       "      <td>Africa Western and Central</td>\n",
       "      <td>4.108896</td>\n",
       "      <td>4.112972</td>\n",
       "      <td>4.117048</td>\n",
       "      <td>4.121123</td>\n",
       "      <td>4.125199</td>\n",
       "      <td>4.165956</td>\n",
       "    </tr>\n",
       "    <tr>\n",
       "      <th>3</th>\n",
       "      <td>Albania</td>\n",
       "      <td>4.110284</td>\n",
       "      <td>4.114360</td>\n",
       "      <td>4.118436</td>\n",
       "      <td>4.122511</td>\n",
       "      <td>4.126587</td>\n",
       "      <td>4.167344</td>\n",
       "    </tr>\n",
       "    <tr>\n",
       "      <th>4</th>\n",
       "      <td>Algeria</td>\n",
       "      <td>4.111672</td>\n",
       "      <td>4.115748</td>\n",
       "      <td>4.119824</td>\n",
       "      <td>4.123899</td>\n",
       "      <td>4.127975</td>\n",
       "      <td>4.168732</td>\n",
       "    </tr>\n",
       "    <tr>\n",
       "      <th>...</th>\n",
       "      <td>...</td>\n",
       "      <td>...</td>\n",
       "      <td>...</td>\n",
       "      <td>...</td>\n",
       "      <td>...</td>\n",
       "      <td>...</td>\n",
       "      <td>...</td>\n",
       "    </tr>\n",
       "    <tr>\n",
       "      <th>261</th>\n",
       "      <td>West Bank and Gaza</td>\n",
       "      <td>4.468351</td>\n",
       "      <td>4.472427</td>\n",
       "      <td>4.476502</td>\n",
       "      <td>4.480578</td>\n",
       "      <td>4.484654</td>\n",
       "      <td>4.525411</td>\n",
       "    </tr>\n",
       "    <tr>\n",
       "      <th>262</th>\n",
       "      <td>World</td>\n",
       "      <td>4.469739</td>\n",
       "      <td>4.473814</td>\n",
       "      <td>4.477890</td>\n",
       "      <td>4.481966</td>\n",
       "      <td>4.486041</td>\n",
       "      <td>4.526798</td>\n",
       "    </tr>\n",
       "    <tr>\n",
       "      <th>263</th>\n",
       "      <td>Yemen, Rep.</td>\n",
       "      <td>4.471127</td>\n",
       "      <td>4.475202</td>\n",
       "      <td>4.479278</td>\n",
       "      <td>4.483354</td>\n",
       "      <td>4.487429</td>\n",
       "      <td>4.528186</td>\n",
       "    </tr>\n",
       "    <tr>\n",
       "      <th>264</th>\n",
       "      <td>Zambia</td>\n",
       "      <td>4.472514</td>\n",
       "      <td>4.476590</td>\n",
       "      <td>4.480666</td>\n",
       "      <td>4.484741</td>\n",
       "      <td>4.488817</td>\n",
       "      <td>4.529574</td>\n",
       "    </tr>\n",
       "    <tr>\n",
       "      <th>265</th>\n",
       "      <td>Zimbabwe</td>\n",
       "      <td>4.473902</td>\n",
       "      <td>4.477978</td>\n",
       "      <td>4.482054</td>\n",
       "      <td>4.486129</td>\n",
       "      <td>4.490205</td>\n",
       "      <td>4.530962</td>\n",
       "    </tr>\n",
       "  </tbody>\n",
       "</table>\n",
       "<p>266 rows × 7 columns</p>\n",
       "</div>"
      ],
      "text/plain": [
       "                    Country Name  2016 [YR2016]  2017 [YR2017]  2018 [YR2018]  \\\n",
       "0                    Afghanistan       4.106121       4.110196       4.114272   \n",
       "1    Africa Eastern and Southern       4.107509       4.111584       4.115660   \n",
       "2     Africa Western and Central       4.108896       4.112972       4.117048   \n",
       "3                        Albania       4.110284       4.114360       4.118436   \n",
       "4                        Algeria       4.111672       4.115748       4.119824   \n",
       "..                           ...            ...            ...            ...   \n",
       "261           West Bank and Gaza       4.468351       4.472427       4.476502   \n",
       "262                        World       4.469739       4.473814       4.477890   \n",
       "263                  Yemen, Rep.       4.471127       4.475202       4.479278   \n",
       "264                       Zambia       4.472514       4.476590       4.480666   \n",
       "265                     Zimbabwe       4.473902       4.477978       4.482054   \n",
       "\n",
       "     2019 [YR2019]  2020 [YR2020]  2030 [YR2030]  \n",
       "0         4.118348       4.122423       4.163180  \n",
       "1         4.119736       4.123811       4.164568  \n",
       "2         4.121123       4.125199       4.165956  \n",
       "3         4.122511       4.126587       4.167344  \n",
       "4         4.123899       4.127975       4.168732  \n",
       "..             ...            ...            ...  \n",
       "261       4.480578       4.484654       4.525411  \n",
       "262       4.481966       4.486041       4.526798  \n",
       "263       4.483354       4.487429       4.528186  \n",
       "264       4.484741       4.488817       4.529574  \n",
       "265       4.486129       4.490205       4.530962  \n",
       "\n",
       "[266 rows x 7 columns]"
      ]
     },
     "execution_count": 63,
     "metadata": {},
     "output_type": "execute_result"
    }
   ],
   "source": [
    "final_df"
   ]
  },
  {
   "cell_type": "code",
   "execution_count": null,
   "id": "3915ad66",
   "metadata": {
    "papermill": {
     "duration": 0.028717,
     "end_time": "2024-03-29T20:07:23.785572",
     "exception": false,
     "start_time": "2024-03-29T20:07:23.756855",
     "status": "completed"
    },
    "tags": []
   },
   "outputs": [],
   "source": []
  },
  {
   "cell_type": "code",
   "execution_count": 64,
   "id": "c3267f82",
   "metadata": {
    "execution": {
     "iopub.execute_input": "2024-03-29T20:07:23.843824Z",
     "iopub.status.busy": "2024-03-29T20:07:23.843394Z",
     "iopub.status.idle": "2024-03-29T20:07:23.848076Z",
     "shell.execute_reply": "2024-03-29T20:07:23.847158Z"
    },
    "papermill": {
     "duration": 0.036383,
     "end_time": "2024-03-29T20:07:23.850211",
     "exception": false,
     "start_time": "2024-03-29T20:07:23.813828",
     "status": "completed"
    },
    "tags": []
   },
   "outputs": [],
   "source": [
    "#final_df.to_csv('Hacktick_53.csv', index = False)"
   ]
  }
 ],
 "metadata": {
  "kaggle": {
   "accelerator": "none",
   "dataSources": [
    {
     "databundleVersionId": 7794824,
     "sourceId": 70983,
     "sourceType": "competition"
    }
   ],
   "dockerImageVersionId": 30673,
   "isGpuEnabled": false,
   "isInternetEnabled": true,
   "language": "python",
   "sourceType": "notebook"
  },
  "kernelspec": {
   "display_name": "Python 3",
   "language": "python",
   "name": "python3"
  },
  "language_info": {
   "codemirror_mode": {
    "name": "ipython",
    "version": 3
   },
   "file_extension": ".py",
   "mimetype": "text/x-python",
   "name": "python",
   "nbconvert_exporter": "python",
   "pygments_lexer": "ipython3",
   "version": "3.10.13"
  },
  "papermill": {
   "default_parameters": {},
   "duration": 11.2343,
   "end_time": "2024-03-29T20:07:24.500547",
   "environment_variables": {},
   "exception": null,
   "input_path": "__notebook__.ipynb",
   "output_path": "__notebook__.ipynb",
   "parameters": {},
   "start_time": "2024-03-29T20:07:13.266247",
   "version": "2.5.0"
  }
 },
 "nbformat": 4,
 "nbformat_minor": 5
}
